{
 "cells": [
  {
   "cell_type": "markdown",
   "id": "eb77e51a-c4ff-4bba-a1e9-1098cc8d3a58",
   "metadata": {},
   "source": [
    "### Problem Statement"
   ]
  },
  {
   "cell_type": "markdown",
   "id": "39a1d9a6-fc1e-4936-993a-b965dd5b976d",
   "metadata": {},
   "source": [
    "`The market research team at AeroFit wants to identify the characteristics of the target audience for each type of treadmill offered by the company, to provide a better recommendation of the treadmills to the new customers. The team decides to investigate whether there are differences across the product with respect to customer characteristics.`"
   ]
  },
  {
   "cell_type": "code",
   "execution_count": 2,
   "id": "af0d765b",
   "metadata": {},
   "outputs": [],
   "source": [
    "import pandas as pd\n",
    "import numpy as np\n",
    "import matplotlib.pyplot as plt\n",
    "import seaborn as sns\n",
    "import plotly.express as px\n",
    "from plotly.subplots import make_subplots\n",
    "import plotly.graph_objects as go\n",
    "import warnings\n",
    "warnings.filterwarnings('ignore')"
   ]
  },
  {
   "cell_type": "code",
   "execution_count": 3,
   "id": "a19570e9",
   "metadata": {
    "scrolled": true
   },
   "outputs": [
    {
     "name": "stdout",
     "output_type": "stream",
     "text": [
      "Shape (180, 9)\n"
     ]
    },
    {
     "data": {
      "text/html": [
       "<div>\n",
       "<style scoped>\n",
       "    .dataframe tbody tr th:only-of-type {\n",
       "        vertical-align: middle;\n",
       "    }\n",
       "\n",
       "    .dataframe tbody tr th {\n",
       "        vertical-align: top;\n",
       "    }\n",
       "\n",
       "    .dataframe thead th {\n",
       "        text-align: right;\n",
       "    }\n",
       "</style>\n",
       "<table border=\"1\" class=\"dataframe\">\n",
       "  <thead>\n",
       "    <tr style=\"text-align: right;\">\n",
       "      <th></th>\n",
       "      <th>Product</th>\n",
       "      <th>Age</th>\n",
       "      <th>Gender</th>\n",
       "      <th>Education</th>\n",
       "      <th>MaritalStatus</th>\n",
       "      <th>Usage</th>\n",
       "      <th>Fitness</th>\n",
       "      <th>Income</th>\n",
       "      <th>Miles</th>\n",
       "    </tr>\n",
       "  </thead>\n",
       "  <tbody>\n",
       "    <tr>\n",
       "      <th>0</th>\n",
       "      <td>KP281</td>\n",
       "      <td>18</td>\n",
       "      <td>Male</td>\n",
       "      <td>14</td>\n",
       "      <td>Single</td>\n",
       "      <td>3</td>\n",
       "      <td>4</td>\n",
       "      <td>29562</td>\n",
       "      <td>112</td>\n",
       "    </tr>\n",
       "    <tr>\n",
       "      <th>1</th>\n",
       "      <td>KP281</td>\n",
       "      <td>19</td>\n",
       "      <td>Male</td>\n",
       "      <td>15</td>\n",
       "      <td>Single</td>\n",
       "      <td>2</td>\n",
       "      <td>3</td>\n",
       "      <td>31836</td>\n",
       "      <td>75</td>\n",
       "    </tr>\n",
       "    <tr>\n",
       "      <th>2</th>\n",
       "      <td>KP281</td>\n",
       "      <td>19</td>\n",
       "      <td>Female</td>\n",
       "      <td>14</td>\n",
       "      <td>Partnered</td>\n",
       "      <td>4</td>\n",
       "      <td>3</td>\n",
       "      <td>30699</td>\n",
       "      <td>66</td>\n",
       "    </tr>\n",
       "    <tr>\n",
       "      <th>3</th>\n",
       "      <td>KP281</td>\n",
       "      <td>19</td>\n",
       "      <td>Male</td>\n",
       "      <td>12</td>\n",
       "      <td>Single</td>\n",
       "      <td>3</td>\n",
       "      <td>3</td>\n",
       "      <td>32973</td>\n",
       "      <td>85</td>\n",
       "    </tr>\n",
       "    <tr>\n",
       "      <th>4</th>\n",
       "      <td>KP281</td>\n",
       "      <td>20</td>\n",
       "      <td>Male</td>\n",
       "      <td>13</td>\n",
       "      <td>Partnered</td>\n",
       "      <td>4</td>\n",
       "      <td>2</td>\n",
       "      <td>35247</td>\n",
       "      <td>47</td>\n",
       "    </tr>\n",
       "  </tbody>\n",
       "</table>\n",
       "</div>"
      ],
      "text/plain": [
       "  Product  Age  Gender  Education MaritalStatus  Usage  Fitness  Income  Miles\n",
       "0   KP281   18    Male         14        Single      3        4   29562    112\n",
       "1   KP281   19    Male         15        Single      2        3   31836     75\n",
       "2   KP281   19  Female         14     Partnered      4        3   30699     66\n",
       "3   KP281   19    Male         12        Single      3        3   32973     85\n",
       "4   KP281   20    Male         13     Partnered      4        2   35247     47"
      ]
     },
     "execution_count": 3,
     "metadata": {},
     "output_type": "execute_result"
    }
   ],
   "source": [
    "aerofit_data = pd.read_csv('aerofit_treadmill.csv')\n",
    "print('Shape',aerofit_data.shape)\n",
    "aerofit_data.head()"
   ]
  },
  {
   "cell_type": "code",
   "execution_count": 4,
   "id": "3cbceea3",
   "metadata": {},
   "outputs": [
    {
     "name": "stdout",
     "output_type": "stream",
     "text": [
      "<class 'pandas.core.frame.DataFrame'>\n",
      "RangeIndex: 180 entries, 0 to 179\n",
      "Data columns (total 9 columns):\n",
      " #   Column         Non-Null Count  Dtype \n",
      "---  ------         --------------  ----- \n",
      " 0   Product        180 non-null    object\n",
      " 1   Age            180 non-null    int64 \n",
      " 2   Gender         180 non-null    object\n",
      " 3   Education      180 non-null    int64 \n",
      " 4   MaritalStatus  180 non-null    object\n",
      " 5   Usage          180 non-null    int64 \n",
      " 6   Fitness        180 non-null    int64 \n",
      " 7   Income         180 non-null    int64 \n",
      " 8   Miles          180 non-null    int64 \n",
      "dtypes: int64(6), object(3)\n",
      "memory usage: 12.8+ KB\n"
     ]
    }
   ],
   "source": [
    "aerofit_data.info()"
   ]
  },
  {
   "cell_type": "code",
   "execution_count": 5,
   "id": "fa5e9a4d-620e-45de-bfaf-1609b7f9e5e1",
   "metadata": {},
   "outputs": [
    {
     "name": "stdout",
     "output_type": "stream",
     "text": [
      "******************************\n",
      "Product KP281    80\n",
      "KP481    60\n",
      "KP781    40\n",
      "Name: Product, dtype: int64\n",
      "******************************\n",
      "******************************\n",
      "Age 25    25\n",
      "23    18\n",
      "24    12\n",
      "26    12\n",
      "28     9\n",
      "35     8\n",
      "33     8\n",
      "30     7\n",
      "38     7\n",
      "21     7\n",
      "22     7\n",
      "27     7\n",
      "31     6\n",
      "34     6\n",
      "29     6\n",
      "20     5\n",
      "40     5\n",
      "32     4\n",
      "19     4\n",
      "48     2\n",
      "37     2\n",
      "45     2\n",
      "47     2\n",
      "46     1\n",
      "50     1\n",
      "18     1\n",
      "44     1\n",
      "43     1\n",
      "41     1\n",
      "39     1\n",
      "36     1\n",
      "42     1\n",
      "Name: Age, dtype: int64\n",
      "******************************\n",
      "******************************\n",
      "Gender Male      104\n",
      "Female     76\n",
      "Name: Gender, dtype: int64\n",
      "******************************\n",
      "******************************\n",
      "Education 16    85\n",
      "14    55\n",
      "18    23\n",
      "15     5\n",
      "13     5\n",
      "12     3\n",
      "21     3\n",
      "20     1\n",
      "Name: Education, dtype: int64\n",
      "******************************\n",
      "******************************\n",
      "MaritalStatus Partnered    107\n",
      "Single        73\n",
      "Name: MaritalStatus, dtype: int64\n",
      "******************************\n",
      "******************************\n",
      "Usage 3    69\n",
      "4    52\n",
      "2    33\n",
      "5    17\n",
      "6     7\n",
      "7     2\n",
      "Name: Usage, dtype: int64\n",
      "******************************\n",
      "******************************\n",
      "Fitness 3    97\n",
      "5    31\n",
      "2    26\n",
      "4    24\n",
      "1     2\n",
      "Name: Fitness, dtype: int64\n",
      "******************************\n",
      "******************************\n",
      "Income 45480    14\n",
      "52302     9\n",
      "46617     8\n",
      "54576     8\n",
      "53439     8\n",
      "         ..\n",
      "65220     1\n",
      "55713     1\n",
      "68220     1\n",
      "30699     1\n",
      "95508     1\n",
      "Name: Income, Length: 62, dtype: int64\n",
      "******************************\n",
      "******************************\n",
      "Miles 85     27\n",
      "95     12\n",
      "66     10\n",
      "75     10\n",
      "47      9\n",
      "106     9\n",
      "94      8\n",
      "113     8\n",
      "53      7\n",
      "100     7\n",
      "180     6\n",
      "200     6\n",
      "56      6\n",
      "64      6\n",
      "127     5\n",
      "160     5\n",
      "42      4\n",
      "150     4\n",
      "38      3\n",
      "74      3\n",
      "170     3\n",
      "120     3\n",
      "103     3\n",
      "132     2\n",
      "141     2\n",
      "280     1\n",
      "260     1\n",
      "300     1\n",
      "240     1\n",
      "112     1\n",
      "212     1\n",
      "80      1\n",
      "140     1\n",
      "21      1\n",
      "169     1\n",
      "188     1\n",
      "360     1\n",
      "Name: Miles, dtype: int64\n",
      "******************************\n"
     ]
    }
   ],
   "source": [
    "for col in aerofit_data.columns:\n",
    "    print('*'*30)\n",
    "    print(col, aerofit_data[col].value_counts())\n",
    "    print('*'*30)"
   ]
  },
  {
   "cell_type": "markdown",
   "id": "99c45c9d",
   "metadata": {
    "jp-MarkdownHeadingCollapsed": true,
    "tags": []
   },
   "source": [
    "`No null values available`\n",
    "***"
   ]
  },
  {
   "cell_type": "code",
   "execution_count": 6,
   "id": "370b8ef4",
   "metadata": {},
   "outputs": [
    {
     "data": {
      "text/html": [
       "<div>\n",
       "<style scoped>\n",
       "    .dataframe tbody tr th:only-of-type {\n",
       "        vertical-align: middle;\n",
       "    }\n",
       "\n",
       "    .dataframe tbody tr th {\n",
       "        vertical-align: top;\n",
       "    }\n",
       "\n",
       "    .dataframe thead th {\n",
       "        text-align: right;\n",
       "    }\n",
       "</style>\n",
       "<table border=\"1\" class=\"dataframe\">\n",
       "  <thead>\n",
       "    <tr style=\"text-align: right;\">\n",
       "      <th></th>\n",
       "      <th>Product</th>\n",
       "      <th>Age</th>\n",
       "      <th>Gender</th>\n",
       "      <th>Education</th>\n",
       "      <th>MaritalStatus</th>\n",
       "      <th>Usage</th>\n",
       "      <th>Fitness</th>\n",
       "      <th>Income</th>\n",
       "      <th>Miles</th>\n",
       "    </tr>\n",
       "  </thead>\n",
       "  <tbody>\n",
       "    <tr>\n",
       "      <th>count</th>\n",
       "      <td>180</td>\n",
       "      <td>180.000000</td>\n",
       "      <td>180</td>\n",
       "      <td>180.000000</td>\n",
       "      <td>180</td>\n",
       "      <td>180.000000</td>\n",
       "      <td>180.000000</td>\n",
       "      <td>180.000000</td>\n",
       "      <td>180.000000</td>\n",
       "    </tr>\n",
       "    <tr>\n",
       "      <th>unique</th>\n",
       "      <td>3</td>\n",
       "      <td>NaN</td>\n",
       "      <td>2</td>\n",
       "      <td>NaN</td>\n",
       "      <td>2</td>\n",
       "      <td>NaN</td>\n",
       "      <td>NaN</td>\n",
       "      <td>NaN</td>\n",
       "      <td>NaN</td>\n",
       "    </tr>\n",
       "    <tr>\n",
       "      <th>top</th>\n",
       "      <td>KP281</td>\n",
       "      <td>NaN</td>\n",
       "      <td>Male</td>\n",
       "      <td>NaN</td>\n",
       "      <td>Partnered</td>\n",
       "      <td>NaN</td>\n",
       "      <td>NaN</td>\n",
       "      <td>NaN</td>\n",
       "      <td>NaN</td>\n",
       "    </tr>\n",
       "    <tr>\n",
       "      <th>freq</th>\n",
       "      <td>80</td>\n",
       "      <td>NaN</td>\n",
       "      <td>104</td>\n",
       "      <td>NaN</td>\n",
       "      <td>107</td>\n",
       "      <td>NaN</td>\n",
       "      <td>NaN</td>\n",
       "      <td>NaN</td>\n",
       "      <td>NaN</td>\n",
       "    </tr>\n",
       "    <tr>\n",
       "      <th>mean</th>\n",
       "      <td>NaN</td>\n",
       "      <td>28.788889</td>\n",
       "      <td>NaN</td>\n",
       "      <td>15.572222</td>\n",
       "      <td>NaN</td>\n",
       "      <td>3.455556</td>\n",
       "      <td>3.311111</td>\n",
       "      <td>53719.577778</td>\n",
       "      <td>103.194444</td>\n",
       "    </tr>\n",
       "    <tr>\n",
       "      <th>std</th>\n",
       "      <td>NaN</td>\n",
       "      <td>6.943498</td>\n",
       "      <td>NaN</td>\n",
       "      <td>1.617055</td>\n",
       "      <td>NaN</td>\n",
       "      <td>1.084797</td>\n",
       "      <td>0.958869</td>\n",
       "      <td>16506.684226</td>\n",
       "      <td>51.863605</td>\n",
       "    </tr>\n",
       "    <tr>\n",
       "      <th>min</th>\n",
       "      <td>NaN</td>\n",
       "      <td>18.000000</td>\n",
       "      <td>NaN</td>\n",
       "      <td>12.000000</td>\n",
       "      <td>NaN</td>\n",
       "      <td>2.000000</td>\n",
       "      <td>1.000000</td>\n",
       "      <td>29562.000000</td>\n",
       "      <td>21.000000</td>\n",
       "    </tr>\n",
       "    <tr>\n",
       "      <th>25%</th>\n",
       "      <td>NaN</td>\n",
       "      <td>24.000000</td>\n",
       "      <td>NaN</td>\n",
       "      <td>14.000000</td>\n",
       "      <td>NaN</td>\n",
       "      <td>3.000000</td>\n",
       "      <td>3.000000</td>\n",
       "      <td>44058.750000</td>\n",
       "      <td>66.000000</td>\n",
       "    </tr>\n",
       "    <tr>\n",
       "      <th>50%</th>\n",
       "      <td>NaN</td>\n",
       "      <td>26.000000</td>\n",
       "      <td>NaN</td>\n",
       "      <td>16.000000</td>\n",
       "      <td>NaN</td>\n",
       "      <td>3.000000</td>\n",
       "      <td>3.000000</td>\n",
       "      <td>50596.500000</td>\n",
       "      <td>94.000000</td>\n",
       "    </tr>\n",
       "    <tr>\n",
       "      <th>75%</th>\n",
       "      <td>NaN</td>\n",
       "      <td>33.000000</td>\n",
       "      <td>NaN</td>\n",
       "      <td>16.000000</td>\n",
       "      <td>NaN</td>\n",
       "      <td>4.000000</td>\n",
       "      <td>4.000000</td>\n",
       "      <td>58668.000000</td>\n",
       "      <td>114.750000</td>\n",
       "    </tr>\n",
       "    <tr>\n",
       "      <th>max</th>\n",
       "      <td>NaN</td>\n",
       "      <td>50.000000</td>\n",
       "      <td>NaN</td>\n",
       "      <td>21.000000</td>\n",
       "      <td>NaN</td>\n",
       "      <td>7.000000</td>\n",
       "      <td>5.000000</td>\n",
       "      <td>104581.000000</td>\n",
       "      <td>360.000000</td>\n",
       "    </tr>\n",
       "  </tbody>\n",
       "</table>\n",
       "</div>"
      ],
      "text/plain": [
       "       Product         Age Gender   Education MaritalStatus       Usage  \\\n",
       "count      180  180.000000    180  180.000000           180  180.000000   \n",
       "unique       3         NaN      2         NaN             2         NaN   \n",
       "top      KP281         NaN   Male         NaN     Partnered         NaN   \n",
       "freq        80         NaN    104         NaN           107         NaN   \n",
       "mean       NaN   28.788889    NaN   15.572222           NaN    3.455556   \n",
       "std        NaN    6.943498    NaN    1.617055           NaN    1.084797   \n",
       "min        NaN   18.000000    NaN   12.000000           NaN    2.000000   \n",
       "25%        NaN   24.000000    NaN   14.000000           NaN    3.000000   \n",
       "50%        NaN   26.000000    NaN   16.000000           NaN    3.000000   \n",
       "75%        NaN   33.000000    NaN   16.000000           NaN    4.000000   \n",
       "max        NaN   50.000000    NaN   21.000000           NaN    7.000000   \n",
       "\n",
       "           Fitness         Income       Miles  \n",
       "count   180.000000     180.000000  180.000000  \n",
       "unique         NaN            NaN         NaN  \n",
       "top            NaN            NaN         NaN  \n",
       "freq           NaN            NaN         NaN  \n",
       "mean      3.311111   53719.577778  103.194444  \n",
       "std       0.958869   16506.684226   51.863605  \n",
       "min       1.000000   29562.000000   21.000000  \n",
       "25%       3.000000   44058.750000   66.000000  \n",
       "50%       3.000000   50596.500000   94.000000  \n",
       "75%       4.000000   58668.000000  114.750000  \n",
       "max       5.000000  104581.000000  360.000000  "
      ]
     },
     "execution_count": 6,
     "metadata": {},
     "output_type": "execute_result"
    }
   ],
   "source": [
    "aerofit_data.describe(include='all')"
   ]
  },
  {
   "cell_type": "code",
   "execution_count": 7,
   "id": "f8ec5e6e-6d21-4587-b601-08195848279d",
   "metadata": {},
   "outputs": [
    {
     "data": {
      "text/html": [
       "<div>\n",
       "<style scoped>\n",
       "    .dataframe tbody tr th:only-of-type {\n",
       "        vertical-align: middle;\n",
       "    }\n",
       "\n",
       "    .dataframe tbody tr th {\n",
       "        vertical-align: top;\n",
       "    }\n",
       "\n",
       "    .dataframe thead th {\n",
       "        text-align: right;\n",
       "    }\n",
       "</style>\n",
       "<table border=\"1\" class=\"dataframe\">\n",
       "  <thead>\n",
       "    <tr style=\"text-align: right;\">\n",
       "      <th></th>\n",
       "      <th>Age</th>\n",
       "      <th>Education</th>\n",
       "      <th>Usage</th>\n",
       "      <th>Fitness</th>\n",
       "      <th>Income</th>\n",
       "      <th>Miles</th>\n",
       "    </tr>\n",
       "  </thead>\n",
       "  <tbody>\n",
       "    <tr>\n",
       "      <th>mean</th>\n",
       "      <td>28.79</td>\n",
       "      <td>15.57</td>\n",
       "      <td>3.46</td>\n",
       "      <td>3.31</td>\n",
       "      <td>53719.58</td>\n",
       "      <td>103.19</td>\n",
       "    </tr>\n",
       "    <tr>\n",
       "      <th>median</th>\n",
       "      <td>26.00</td>\n",
       "      <td>16.00</td>\n",
       "      <td>3.00</td>\n",
       "      <td>3.00</td>\n",
       "      <td>50596.50</td>\n",
       "      <td>94.00</td>\n",
       "    </tr>\n",
       "  </tbody>\n",
       "</table>\n",
       "</div>"
      ],
      "text/plain": [
       "          Age  Education  Usage  Fitness    Income   Miles\n",
       "mean    28.79      15.57   3.46     3.31  53719.58  103.19\n",
       "median  26.00      16.00   3.00     3.00  50596.50   94.00"
      ]
     },
     "execution_count": 7,
     "metadata": {},
     "output_type": "execute_result"
    }
   ],
   "source": [
    "pd.DataFrame({'mean':aerofit_data.mean().round(2), 'median':aerofit_data.median().round(2)}).T"
   ]
  },
  {
   "cell_type": "code",
   "execution_count": 8,
   "id": "66662e17-f77f-4172-83f7-33d6a87ecea0",
   "metadata": {},
   "outputs": [
    {
     "data": {
      "text/html": [
       "<div>\n",
       "<style scoped>\n",
       "    .dataframe tbody tr th:only-of-type {\n",
       "        vertical-align: middle;\n",
       "    }\n",
       "\n",
       "    .dataframe tbody tr th {\n",
       "        vertical-align: top;\n",
       "    }\n",
       "\n",
       "    .dataframe thead th {\n",
       "        text-align: right;\n",
       "    }\n",
       "</style>\n",
       "<table border=\"1\" class=\"dataframe\">\n",
       "  <thead>\n",
       "    <tr style=\"text-align: right;\">\n",
       "      <th></th>\n",
       "      <th>Product</th>\n",
       "      <th>Age</th>\n",
       "      <th>Gender</th>\n",
       "      <th>Education</th>\n",
       "      <th>MaritalStatus</th>\n",
       "      <th>Usage</th>\n",
       "      <th>Fitness</th>\n",
       "      <th>Income</th>\n",
       "      <th>Miles</th>\n",
       "    </tr>\n",
       "  </thead>\n",
       "  <tbody>\n",
       "    <tr>\n",
       "      <th>0</th>\n",
       "      <td>KP281</td>\n",
       "      <td>25</td>\n",
       "      <td>Male</td>\n",
       "      <td>16</td>\n",
       "      <td>Partnered</td>\n",
       "      <td>3</td>\n",
       "      <td>3</td>\n",
       "      <td>45480</td>\n",
       "      <td>85</td>\n",
       "    </tr>\n",
       "  </tbody>\n",
       "</table>\n",
       "</div>"
      ],
      "text/plain": [
       "  Product  Age Gender  Education MaritalStatus  Usage  Fitness  Income  Miles\n",
       "0   KP281   25   Male         16     Partnered      3        3   45480     85"
      ]
     },
     "execution_count": 8,
     "metadata": {},
     "output_type": "execute_result"
    }
   ],
   "source": [
    "aerofit_data.mode()"
   ]
  },
  {
   "cell_type": "markdown",
   "id": "dd58f5f8-f165-48fb-9283-02b82c8ea554",
   "metadata": {},
   "source": [
    "`1. Median and Mean look fine for all features.`\\\n",
    "`2. Mode for Miles is low compared to mean and median`\n",
    "***"
   ]
  },
  {
   "cell_type": "code",
   "execution_count": 9,
   "id": "2b30addf-946c-4625-a1ce-60c5bd972c19",
   "metadata": {},
   "outputs": [
    {
     "data": {
      "image/png": "[encoded data removed]",
      "text/plain": [
       "<Figure size 1080x864 with 6 Axes>"
      ]
     },
     "metadata": {
      "needs_background": "light"
     },
     "output_type": "display_data"
    }
   ],
   "source": [
    "fig = plt.figure(figsize=(15,12))\n",
    "\n",
    "plt.subplot(2,3,1)\n",
    "sns.boxplot(y=aerofit_data['Age'], color='orange')\n",
    "plt.title('Age')\n",
    "\n",
    "plt.subplot(2,3,2)\n",
    "sns.boxplot(y=aerofit_data['Education'], color='blue')\n",
    "plt.title('Education')\n",
    "\n",
    "plt.subplot(2,3,3)\n",
    "sns.boxplot(y=aerofit_data['Usage'], color='green')\n",
    "plt.title('Usage')\n",
    "\n",
    "plt.subplot(2,3,4)\n",
    "sns.boxplot(y=aerofit_data['Fitness'], color='yellow')\n",
    "plt.title('Fitness')\n",
    "\n",
    "plt.subplot(2,3,5)\n",
    "sns.boxplot(y=aerofit_data['Income'], color='pink')\n",
    "plt.title('Income')\n",
    "\n",
    "plt.subplot(2,3,6)\n",
    "sns.boxplot(y=aerofit_data['Miles'], color='red')\n",
    "plt.title('Miles')\n",
    "\n",
    "plt.show()\n"
   ]
  },
  {
   "cell_type": "code",
   "execution_count": 10,
   "id": "bc7fbc55-badd-4617-b81d-87656e2396e9",
   "metadata": {},
   "outputs": [
    {
     "data": {
      "text/html": [
       "<div>\n",
       "<style scoped>\n",
       "    .dataframe tbody tr th:only-of-type {\n",
       "        vertical-align: middle;\n",
       "    }\n",
       "\n",
       "    .dataframe tbody tr th {\n",
       "        vertical-align: top;\n",
       "    }\n",
       "\n",
       "    .dataframe thead th {\n",
       "        text-align: right;\n",
       "    }\n",
       "</style>\n",
       "<table border=\"1\" class=\"dataframe\">\n",
       "  <thead>\n",
       "    <tr style=\"text-align: right;\">\n",
       "      <th></th>\n",
       "      <th>Age</th>\n",
       "      <th>Education</th>\n",
       "      <th>Usage</th>\n",
       "      <th>Fitness</th>\n",
       "      <th>Income</th>\n",
       "      <th>Miles</th>\n",
       "    </tr>\n",
       "  </thead>\n",
       "  <tbody>\n",
       "    <tr>\n",
       "      <th>count</th>\n",
       "      <td>180.000000</td>\n",
       "      <td>180.000000</td>\n",
       "      <td>180.000000</td>\n",
       "      <td>180.000000</td>\n",
       "      <td>180.000000</td>\n",
       "      <td>180.000000</td>\n",
       "    </tr>\n",
       "    <tr>\n",
       "      <th>mean</th>\n",
       "      <td>28.788889</td>\n",
       "      <td>15.572222</td>\n",
       "      <td>3.455556</td>\n",
       "      <td>3.311111</td>\n",
       "      <td>53719.577778</td>\n",
       "      <td>103.194444</td>\n",
       "    </tr>\n",
       "    <tr>\n",
       "      <th>std</th>\n",
       "      <td>6.943498</td>\n",
       "      <td>1.617055</td>\n",
       "      <td>1.084797</td>\n",
       "      <td>0.958869</td>\n",
       "      <td>16506.684226</td>\n",
       "      <td>51.863605</td>\n",
       "    </tr>\n",
       "    <tr>\n",
       "      <th>min</th>\n",
       "      <td>18.000000</td>\n",
       "      <td>12.000000</td>\n",
       "      <td>2.000000</td>\n",
       "      <td>1.000000</td>\n",
       "      <td>29562.000000</td>\n",
       "      <td>21.000000</td>\n",
       "    </tr>\n",
       "    <tr>\n",
       "      <th>25%</th>\n",
       "      <td>24.000000</td>\n",
       "      <td>14.000000</td>\n",
       "      <td>3.000000</td>\n",
       "      <td>3.000000</td>\n",
       "      <td>44058.750000</td>\n",
       "      <td>66.000000</td>\n",
       "    </tr>\n",
       "    <tr>\n",
       "      <th>50%</th>\n",
       "      <td>26.000000</td>\n",
       "      <td>16.000000</td>\n",
       "      <td>3.000000</td>\n",
       "      <td>3.000000</td>\n",
       "      <td>50596.500000</td>\n",
       "      <td>94.000000</td>\n",
       "    </tr>\n",
       "    <tr>\n",
       "      <th>75%</th>\n",
       "      <td>33.000000</td>\n",
       "      <td>16.000000</td>\n",
       "      <td>4.000000</td>\n",
       "      <td>4.000000</td>\n",
       "      <td>58668.000000</td>\n",
       "      <td>114.750000</td>\n",
       "    </tr>\n",
       "    <tr>\n",
       "      <th>max</th>\n",
       "      <td>50.000000</td>\n",
       "      <td>21.000000</td>\n",
       "      <td>7.000000</td>\n",
       "      <td>5.000000</td>\n",
       "      <td>104581.000000</td>\n",
       "      <td>360.000000</td>\n",
       "    </tr>\n",
       "  </tbody>\n",
       "</table>\n",
       "</div>"
      ],
      "text/plain": [
       "              Age   Education       Usage     Fitness         Income  \\\n",
       "count  180.000000  180.000000  180.000000  180.000000     180.000000   \n",
       "mean    28.788889   15.572222    3.455556    3.311111   53719.577778   \n",
       "std      6.943498    1.617055    1.084797    0.958869   16506.684226   \n",
       "min     18.000000   12.000000    2.000000    1.000000   29562.000000   \n",
       "25%     24.000000   14.000000    3.000000    3.000000   44058.750000   \n",
       "50%     26.000000   16.000000    3.000000    3.000000   50596.500000   \n",
       "75%     33.000000   16.000000    4.000000    4.000000   58668.000000   \n",
       "max     50.000000   21.000000    7.000000    5.000000  104581.000000   \n",
       "\n",
       "            Miles  \n",
       "count  180.000000  \n",
       "mean   103.194444  \n",
       "std     51.863605  \n",
       "min     21.000000  \n",
       "25%     66.000000  \n",
       "50%     94.000000  \n",
       "75%    114.750000  \n",
       "max    360.000000  "
      ]
     },
     "execution_count": 10,
     "metadata": {},
     "output_type": "execute_result"
    }
   ],
   "source": [
    "aerofit_data.describe()"
   ]
  },
  {
   "cell_type": "code",
   "execution_count": 11,
   "id": "028ac979-dcb2-4d52-8b29-833cb6e8095d",
   "metadata": {},
   "outputs": [
    {
     "name": "stdout",
     "output_type": "stream",
     "text": [
      "99th percentiles: \n",
      "\n",
      "Age             43.05\n",
      "Education       18.00\n",
      "Usage            5.05\n",
      "Fitness          5.00\n",
      "Income       90948.25\n",
      "Miles          200.00\n",
      "Name: 0.95, dtype: float64\n"
     ]
    }
   ],
   "source": [
    "print(f\"99th percentiles: \\n\\n{aerofit_data.quantile(0.95)}\")"
   ]
  },
  {
   "cell_type": "markdown",
   "id": "e235c744-fae1-42a5-9c1d-bd8fc18cb4b0",
   "metadata": {},
   "source": [
    "`All features's (except Income) 95th percentile look fine and making sense wrt other quantiles and mean`\\\n",
    "`Let's plot histogram for Income and check right most values`"
   ]
  },
  {
   "cell_type": "code",
   "execution_count": 12,
   "id": "5f4785a9-0183-4128-a010-a22d81582379",
   "metadata": {},
   "outputs": [
    {
     "data": {
      "image/png": "[encoded data removed]",
      "text/plain": [
       "<Figure size 432x288 with 1 Axes>"
      ]
     },
     "metadata": {
      "needs_background": "light"
     },
     "output_type": "display_data"
    }
   ],
   "source": [
    "sns.histplot(aerofit_data['Income'], kde=True, color='darkblue')\n",
    "plt.show()"
   ]
  },
  {
   "cell_type": "markdown",
   "id": "e300a930-6a3d-40da-a2f0-818cfca92b07",
   "metadata": {},
   "source": [
    "`We can say Income distribution is right tailed and can't find outliers in this so lets go ahead with this`\n",
    "***"
   ]
  },
  {
   "cell_type": "code",
   "execution_count": 13,
   "id": "429b69eb",
   "metadata": {},
   "outputs": [
    {
     "data": {
      "image/png": "[encoded data removed]",
      "text/plain": [
       "<Figure size 720x432 with 1 Axes>"
      ]
     },
     "metadata": {},
     "output_type": "display_data"
    }
   ],
   "source": [
    "plt.figure(figsize=(10,6))\n",
    "plt.pie(aerofit_data['Product'].value_counts(), labels=aerofit_data['Product'].value_counts().index, \n",
    "        autopct='%1.0f%%', shadow=True, explode=[0.1,0,0])\n",
    "plt.show()"
   ]
  },
  {
   "cell_type": "markdown",
   "id": "bc917278-c339-4aec-b331-8186dab62ee0",
   "metadata": {},
   "source": [
    "`KP281 product is most selling model compare to other two products KP481 and KP781`\n",
    "***"
   ]
  },
  {
   "cell_type": "code",
   "execution_count": 14,
   "id": "2e3298bd-7c35-4381-8e53-ac1b620c0543",
   "metadata": {},
   "outputs": [],
   "source": [
    "product281 = aerofit_data[aerofit_data['Product']=='KP281']\n",
    "product481 = aerofit_data[aerofit_data['Product']=='KP481']\n",
    "product781 = aerofit_data[aerofit_data['Product']=='KP781']"
   ]
  },
  {
   "cell_type": "markdown",
   "id": "3b81596b-3a0a-4f29-bed8-ed25a0bf0784",
   "metadata": {},
   "source": [
    "### Age vs Product "
   ]
  },
  {
   "cell_type": "code",
   "execution_count": 15,
   "id": "70b539cd",
   "metadata": {},
   "outputs": [
    {
     "data": {
      "image/png": "[encoded data removed]",
      "text/plain": [
       "<Figure size 1080x360 with 3 Axes>"
      ]
     },
     "metadata": {
      "needs_background": "light"
     },
     "output_type": "display_data"
    }
   ],
   "source": [
    "fig = plt.figure(figsize=(15,5))\n",
    "\n",
    "plt.subplot(1,3,1)\n",
    "sns.histplot(product281, x='Age', kde=True, color='red', stat='probability')\n",
    "plt.title('Age vs KP281')\n",
    "\n",
    "plt.subplot(1,3,2)\n",
    "sns.histplot(product481, x='Age', kde=True, color='blue', stat='probability')\n",
    "plt.title('Age vs KP481')\n",
    "\n",
    "plt.subplot(1,3,3)\n",
    "sns.histplot(product781, x='Age', kde=True, color='green', stat='probability')\n",
    "plt.title('Age vs KP781')\n",
    "\n",
    "plt.show()"
   ]
  },
  {
   "cell_type": "markdown",
   "id": "88766d2d-2a51-45b6-b5f7-f4a9ac26ee06",
   "metadata": {},
   "source": [
    "`Age bracket 20-30 (youth) is the peak for all three products with around 30% probability.`\\\n",
    "`Mid age adult purchased less with around 5% probability, looks like normal behaviour only`\\\n",
    "`Also distribution look same for all three products`\n",
    "***"
   ]
  },
  {
   "cell_type": "markdown",
   "id": "df0f9def-5577-45d9-b5dc-21eb6638456e",
   "metadata": {},
   "source": [
    "### Marital Status, Gender vs Product"
   ]
  },
  {
   "cell_type": "code",
   "execution_count": 16,
   "id": "e17856d0-fea9-44b4-b295-206789df8658",
   "metadata": {},
   "outputs": [
    {
     "data": {
      "image/png": "[encoded data removed]",
      "text/plain": [
       "<Figure size 720x432 with 1 Axes>"
      ]
     },
     "metadata": {
      "needs_background": "light"
     },
     "output_type": "display_data"
    }
   ],
   "source": [
    "plt.figure(figsize=(10,6))\n",
    "sns.countplot(data=aerofit_data, x='Product', hue='MaritalStatus')\n",
    "fig.show()"
   ]
  },
  {
   "cell_type": "code",
   "execution_count": 17,
   "id": "7f536b13-6d82-456d-a435-d8843505865c",
   "metadata": {},
   "outputs": [
    {
     "data": {
      "image/png": "[encoded data removed]",
      "text/plain": [
       "<Figure size 720x432 with 1 Axes>"
      ]
     },
     "metadata": {
      "needs_background": "light"
     },
     "output_type": "display_data"
    }
   ],
   "source": [
    "plt.figure(figsize=(10,6))\n",
    "sns.countplot(data=aerofit_data, x='Product', hue='Gender')\n",
    "fig.show()"
   ]
  },
  {
   "cell_type": "markdown",
   "id": "21e736c2-43dd-4ea8-8926-05d01d54c087",
   "metadata": {},
   "source": [
    "`Partnered marital status people purchased more compare to Single.`\\\n",
    "`Male purchased most advanced features product KP781.`"
   ]
  },
  {
   "cell_type": "markdown",
   "id": "47051202-0fe2-4f9a-a5dd-36601fc999d9",
   "metadata": {},
   "source": [
    "### Income vs Product"
   ]
  },
  {
   "cell_type": "code",
   "execution_count": 18,
   "id": "414d4613-46f7-4120-9366-bbc52fc1439d",
   "metadata": {},
   "outputs": [
    {
     "data": {
      "image/png": "[encoded data removed]",
      "text/plain": [
       "<Figure size 1440x432 with 3 Axes>"
      ]
     },
     "metadata": {
      "needs_background": "light"
     },
     "output_type": "display_data"
    }
   ],
   "source": [
    "fig = plt.figure(figsize=(20,6))\n",
    "\n",
    "plt.subplot(1,3,1)\n",
    "sns.histplot(product281, x='Income', kde=True, color='red', stat='probability')\n",
    "plt.title('Income vs KP281')\n",
    "\n",
    "plt.subplot(1,3,2)\n",
    "sns.histplot(product481, x='Income', kde=True, color='blue', stat='probability')\n",
    "plt.title('Income vs KP481')\n",
    "\n",
    "plt.subplot(1,3,3)\n",
    "sns.histplot(product781, x='Income', kde=True, color='green', stat='probability')\n",
    "plt.title('Income vs KP781')\n",
    "\n",
    "plt.show()"
   ]
  },
  {
   "cell_type": "code",
   "execution_count": 19,
   "id": "a7d252b3-3ac1-4d1d-874f-86cf44a03ebb",
   "metadata": {},
   "outputs": [
    {
     "data": {
      "image/png": "[encoded data removed]",
      "text/plain": [
       "<Figure size 720x432 with 1 Axes>"
      ]
     },
     "metadata": {
      "needs_background": "light"
     },
     "output_type": "display_data"
    }
   ],
   "source": [
    "plt.figure(figsize=(10,6))\n",
    "sns.kdeplot(data=aerofit_data, x='Income', hue='Product', fill=True)\n",
    "plt.show()"
   ]
  },
  {
   "cell_type": "markdown",
   "id": "64886b96-5a6a-4a5d-8d3b-ba9dae8b8b6b",
   "metadata": {},
   "source": [
    "`Mostly 30k-70k income bracket people purchased entry and mid level products where mid level product mostly purchased by who has Income ~50k`\\\n",
    "`Advanced features product mostly purchased by very high income people with two peaks(almost distributed uniformaly) 55k and 95k`"
   ]
  },
  {
   "cell_type": "markdown",
   "id": "d01d08d9-8670-4991-b638-fc03c9880c7a",
   "metadata": {},
   "source": [
    "### Income vs Gender"
   ]
  },
  {
   "cell_type": "code",
   "execution_count": 20,
   "id": "ed88514a-ad4a-4960-b30a-be7328ff8b0c",
   "metadata": {},
   "outputs": [
    {
     "data": {
      "image/png": "[encoded data removed]",
      "text/plain": [
       "<Figure size 720x432 with 1 Axes>"
      ]
     },
     "metadata": {
      "needs_background": "light"
     },
     "output_type": "display_data"
    }
   ],
   "source": [
    "plt.figure(figsize=(10,6))\n",
    "sns.histplot(data=aerofit_data, x='Income', hue='Gender', kde=True, stat = \"probability\")\n",
    "plt.show()"
   ]
  },
  {
   "cell_type": "markdown",
   "id": "a619f856-128b-43b2-b9eb-15c48ef1b8aa",
   "metadata": {},
   "source": [
    "`From Mid to high income, Male have more Income`"
   ]
  },
  {
   "cell_type": "markdown",
   "id": "6e19312a-a58b-4e63-a635-7d34eabb9962",
   "metadata": {},
   "source": [
    "### Age vs Income vs Product"
   ]
  },
  {
   "cell_type": "code",
   "execution_count": 21,
   "id": "eb24c920-a536-41d2-833b-56d27396f422",
   "metadata": {},
   "outputs": [
    {
     "data": {
      "image/png": "[encoded data removed]",
      "text/plain": [
       "<Figure size 720x432 with 1 Axes>"
      ]
     },
     "metadata": {
      "needs_background": "light"
     },
     "output_type": "display_data"
    }
   ],
   "source": [
    "plt.figure(figsize=(10,6))\n",
    "sns.lineplot(data=aerofit_data, x='Age', y='Income', hue='Product')\n",
    "plt.show()"
   ]
  },
  {
   "cell_type": "markdown",
   "id": "aabdf8b7-7fe5-4ae9-9af3-5e81279e41de",
   "metadata": {},
   "source": [
    "`KP281 and KP481 purchased mostly within all age brackets and 30k-60k Income.` \\\n",
    "`But 35-40 Age adult bracket has reverese pattern, people purchased KP781 product most.`\\\n",
    "`Also KP781 product purchased in Age bracket 25-48 and Income within 50k-110k only.`\n",
    "***"
   ]
  },
  {
   "cell_type": "markdown",
   "id": "35e119cc-bf43-4636-ba2f-e33ff3c3fb85",
   "metadata": {},
   "source": [
    "### Age vs Miles vs Product"
   ]
  },
  {
   "cell_type": "code",
   "execution_count": 22,
   "id": "9298cbfa-a5b6-4b8e-b50d-6d93b3136148",
   "metadata": {},
   "outputs": [
    {
     "data": {
      "image/png": "[encoded data removed]",
      "text/plain": [
       "<Figure size 720x432 with 1 Axes>"
      ]
     },
     "metadata": {
      "needs_background": "light"
     },
     "output_type": "display_data"
    }
   ],
   "source": [
    "plt.figure(figsize=(10,6))\n",
    "sns.lineplot(data=aerofit_data, x='Age', y='Miles', hue='Product')\n",
    "plt.show()"
   ]
  },
  {
   "cell_type": "markdown",
   "id": "3a9bd17b-9e76-41a9-8950-0b8ec6df4897",
   "metadata": {},
   "source": [
    "`Mostly KP781 product purchased for Age range 35-40 and high miles 300+`\n"
   ]
  },
  {
   "cell_type": "code",
   "execution_count": 23,
   "id": "5654551e-ccfb-4a45-b916-f809534c0394",
   "metadata": {},
   "outputs": [
    {
     "data": {
      "image/png": "[encoded data removed]",
      "text/plain": [
       "<Figure size 720x432 with 1 Axes>"
      ]
     },
     "metadata": {
      "needs_background": "light"
     },
     "output_type": "display_data"
    }
   ],
   "source": [
    "plt.figure(figsize=(10,6))\n",
    "sns.kdeplot(data=aerofit_data, x='Miles', hue='Product', fill=True)\n",
    "plt.show()"
   ]
  },
  {
   "cell_type": "markdown",
   "id": "99313291-937d-42cc-a90e-d0586059b279",
   "metadata": {},
   "source": [
    "`KP281 and KP481 products used for low miles(50-100 miles)run where KP781 used for low to high miles ~400 and maximum purchased for 100-200 miles run target.`\n",
    "***"
   ]
  },
  {
   "cell_type": "markdown",
   "id": "62e3efeb-0ecc-482d-9972-c56679117a21",
   "metadata": {},
   "source": [
    "### Age vs Fitness vs Product"
   ]
  },
  {
   "cell_type": "code",
   "execution_count": 24,
   "id": "b3fd39b2-e509-406f-88c2-aa8551c85edf",
   "metadata": {},
   "outputs": [
    {
     "data": {
      "image/png": "[encoded data removed]",
      "text/plain": [
       "<Figure size 720x432 with 1 Axes>"
      ]
     },
     "metadata": {
      "needs_background": "light"
     },
     "output_type": "display_data"
    }
   ],
   "source": [
    "plt.figure(figsize=(10,6))\n",
    "sns.lineplot(data=aerofit_data, x='Age', y='Fitness', hue='Product')\n",
    "plt.show()"
   ]
  },
  {
   "cell_type": "markdown",
   "id": "2ec54813-a692-4b8d-ab92-34781b0966a0",
   "metadata": {},
   "source": [
    "`Age bracket 30+ to 40 and fitness level 5 has best selling product KP781. where other two products KP281 and KP481 are good option for all age groups.`"
   ]
  },
  {
   "cell_type": "code",
   "execution_count": 25,
   "id": "9db1a2b8-ec7b-48cd-9d7f-4fed42699011",
   "metadata": {},
   "outputs": [
    {
     "data": {
      "image/png": "[encoded data removed]",
      "text/plain": [
       "<Figure size 720x432 with 1 Axes>"
      ]
     },
     "metadata": {
      "needs_background": "light"
     },
     "output_type": "display_data"
    }
   ],
   "source": [
    "plt.figure(figsize=(10,6))\n",
    "sns.kdeplot(data=aerofit_data, x='Fitness', hue='Product', fill=True)\n",
    "plt.show()"
   ]
  },
  {
   "cell_type": "markdown",
   "id": "753e057f-b550-478b-9ca8-fef3b3bf0a0e",
   "metadata": {},
   "source": [
    "`KP281 and KP481 products purchased for mid level fitness 2-3 and for top fitness 4-5, KP781 is a good option.`\n",
    "***"
   ]
  },
  {
   "cell_type": "markdown",
   "id": "b6a36843-53d6-4053-aab9-f3353ae5ea6d",
   "metadata": {},
   "source": [
    "### Education vs Product"
   ]
  },
  {
   "cell_type": "code",
   "execution_count": 26,
   "id": "1b569431-b474-4a65-9c19-49133dbc7396",
   "metadata": {},
   "outputs": [
    {
     "data": {
      "image/png": "[encoded data removed]",
      "text/plain": [
       "<Figure size 720x432 with 1 Axes>"
      ]
     },
     "metadata": {
      "needs_background": "light"
     },
     "output_type": "display_data"
    }
   ],
   "source": [
    "plt.figure(figsize=(10,6))\n",
    "sns.kdeplot(data=aerofit_data, x='Education', hue='Product', fill=True)\n",
    "plt.show()"
   ]
  },
  {
   "cell_type": "markdown",
   "id": "7d93967f-dad6-42fd-a001-9920d66ea29d",
   "metadata": {},
   "source": [
    "`For mid education years (14 and 16), mostly KP281 and KP481 purchased.`\\\n",
    "`Where KP781 product purchasing range distributed between mid-high education years (15, 22) and mostly purchased by 18 education years people.`\n",
    "***"
   ]
  },
  {
   "cell_type": "markdown",
   "id": "5bfebd3f-cd24-4a10-b821-d8aa0ce7bc91",
   "metadata": {},
   "source": [
    "### Heat Map"
   ]
  },
  {
   "cell_type": "code",
   "execution_count": 27,
   "id": "f8224616-f97a-4e30-9d61-b95e6a465549",
   "metadata": {},
   "outputs": [
    {
     "data": {
      "image/png": "[encoded data removed]",
      "text/plain": [
       "<Figure size 576x432 with 2 Axes>"
      ]
     },
     "metadata": {
      "needs_background": "light"
     },
     "output_type": "display_data"
    }
   ],
   "source": [
    "plt.figure(figsize=(8,6))\n",
    "sns.heatmap(aerofit_data.corr(),cmap=\"YlGnBu\", annot=True, square=True)\n",
    "plt.show()"
   ]
  },
  {
   "cell_type": "markdown",
   "id": "75f81050-e2f4-446f-9e84-2af18d2f0569",
   "metadata": {},
   "source": [
    "`High Correlated Features:`\\\n",
    "`1. Miles- Fitness, Usage.`\\\n",
    "`2. Income - Education.`\\\n",
    "\n",
    "`Low Correlated Features:`\\\n",
    "`1. Age -  Miles, Fitness and Usage.`"
   ]
  },
  {
   "cell_type": "markdown",
   "id": "80faa4ec-7814-4c75-86b9-d5b713778095",
   "metadata": {},
   "source": [
    "### Pair Plot"
   ]
  },
  {
   "cell_type": "code",
   "execution_count": 28,
   "id": "aa29d64f-a187-413b-bead-29fbecac347a",
   "metadata": {},
   "outputs": [
    {
     "data": {
      "image/png": "[encoded data removed]",
      "text/plain": [
       "<Figure size 1080x1080 with 42 Axes>"
      ]
     },
     "metadata": {
      "needs_background": "light"
     },
     "output_type": "display_data"
    }
   ],
   "source": [
    "sns.pairplot(aerofit_data)\n",
    "plt.show()"
   ]
  },
  {
   "cell_type": "markdown",
   "id": "179eb88d-0f3b-46cf-a392-13a405e4d8b7",
   "metadata": {},
   "source": [
    "`For Income and Miles: Major chunk available in Low Income and Low Miles, very few for high income and high miles.`\\\n",
    "`For Income and Age: Low Income and Low age bracket going linearly after that it has spreaded across mid-old age people with high income.`\n",
    "***"
   ]
  },
  {
   "cell_type": "markdown",
   "id": "4a6611de-075d-489a-81a7-9995dfe50365",
   "metadata": {},
   "source": [
    "### Bins"
   ]
  },
  {
   "cell_type": "markdown",
   "id": "b3d42445-174b-41f1-8f8d-43a872391b78",
   "metadata": {},
   "source": [
    "`Let's put age, income, miles, education into buckets/range for better understanding.`"
   ]
  },
  {
   "cell_type": "code",
   "execution_count": 29,
   "id": "496e7f78-8837-410e-815d-3cf6516514b3",
   "metadata": {},
   "outputs": [
    {
     "data": {
      "text/html": [
       "<div>\n",
       "<style scoped>\n",
       "    .dataframe tbody tr th:only-of-type {\n",
       "        vertical-align: middle;\n",
       "    }\n",
       "\n",
       "    .dataframe tbody tr th {\n",
       "        vertical-align: top;\n",
       "    }\n",
       "\n",
       "    .dataframe thead th {\n",
       "        text-align: right;\n",
       "    }\n",
       "</style>\n",
       "<table border=\"1\" class=\"dataframe\">\n",
       "  <thead>\n",
       "    <tr style=\"text-align: right;\">\n",
       "      <th></th>\n",
       "      <th>Product</th>\n",
       "      <th>Age</th>\n",
       "      <th>Gender</th>\n",
       "      <th>Education</th>\n",
       "      <th>MaritalStatus</th>\n",
       "      <th>Usage</th>\n",
       "      <th>Fitness</th>\n",
       "      <th>Income</th>\n",
       "      <th>Miles</th>\n",
       "      <th>Age_bins</th>\n",
       "    </tr>\n",
       "  </thead>\n",
       "  <tbody>\n",
       "    <tr>\n",
       "      <th>2</th>\n",
       "      <td>KP281</td>\n",
       "      <td>19</td>\n",
       "      <td>Female</td>\n",
       "      <td>14</td>\n",
       "      <td>Partnered</td>\n",
       "      <td>4</td>\n",
       "      <td>3</td>\n",
       "      <td>30699</td>\n",
       "      <td>66</td>\n",
       "      <td>18-30</td>\n",
       "    </tr>\n",
       "    <tr>\n",
       "      <th>21</th>\n",
       "      <td>KP281</td>\n",
       "      <td>23</td>\n",
       "      <td>Male</td>\n",
       "      <td>16</td>\n",
       "      <td>Single</td>\n",
       "      <td>4</td>\n",
       "      <td>3</td>\n",
       "      <td>40932</td>\n",
       "      <td>94</td>\n",
       "      <td>18-30</td>\n",
       "    </tr>\n",
       "    <tr>\n",
       "      <th>89</th>\n",
       "      <td>KP481</td>\n",
       "      <td>23</td>\n",
       "      <td>Female</td>\n",
       "      <td>16</td>\n",
       "      <td>Single</td>\n",
       "      <td>3</td>\n",
       "      <td>3</td>\n",
       "      <td>45480</td>\n",
       "      <td>95</td>\n",
       "      <td>18-30</td>\n",
       "    </tr>\n",
       "    <tr>\n",
       "      <th>132</th>\n",
       "      <td>KP481</td>\n",
       "      <td>37</td>\n",
       "      <td>Female</td>\n",
       "      <td>16</td>\n",
       "      <td>Partnered</td>\n",
       "      <td>2</td>\n",
       "      <td>3</td>\n",
       "      <td>48891</td>\n",
       "      <td>85</td>\n",
       "      <td>30-40</td>\n",
       "    </tr>\n",
       "    <tr>\n",
       "      <th>49</th>\n",
       "      <td>KP281</td>\n",
       "      <td>28</td>\n",
       "      <td>Female</td>\n",
       "      <td>16</td>\n",
       "      <td>Partnered</td>\n",
       "      <td>3</td>\n",
       "      <td>3</td>\n",
       "      <td>51165</td>\n",
       "      <td>56</td>\n",
       "      <td>18-30</td>\n",
       "    </tr>\n",
       "  </tbody>\n",
       "</table>\n",
       "</div>"
      ],
      "text/plain": [
       "    Product  Age  Gender  Education MaritalStatus  Usage  Fitness  Income  \\\n",
       "2     KP281   19  Female         14     Partnered      4        3   30699   \n",
       "21    KP281   23    Male         16        Single      4        3   40932   \n",
       "89    KP481   23  Female         16        Single      3        3   45480   \n",
       "132   KP481   37  Female         16     Partnered      2        3   48891   \n",
       "49    KP281   28  Female         16     Partnered      3        3   51165   \n",
       "\n",
       "     Miles Age_bins  \n",
       "2       66    18-30  \n",
       "21      94    18-30  \n",
       "89      95    18-30  \n",
       "132     85    30-40  \n",
       "49      56    18-30  "
      ]
     },
     "execution_count": 29,
     "metadata": {},
     "output_type": "execute_result"
    }
   ],
   "source": [
    "age_bins = [17,30,40,50]\n",
    "age_labels = ['18-30', '30-40', '40-50']\n",
    "aerofit_data['Age_bins'] = pd.cut(aerofit_data['Age'],bins=age_bins,labels=age_labels)\n",
    "aerofit_data.sample(5)"
   ]
  },
  {
   "cell_type": "code",
   "execution_count": 30,
   "id": "6aa7ca39-5cab-4b31-9ca8-d5b595cad7ad",
   "metadata": {},
   "outputs": [
    {
     "data": {
      "text/html": [
       "<div>\n",
       "<style scoped>\n",
       "    .dataframe tbody tr th:only-of-type {\n",
       "        vertical-align: middle;\n",
       "    }\n",
       "\n",
       "    .dataframe tbody tr th {\n",
       "        vertical-align: top;\n",
       "    }\n",
       "\n",
       "    .dataframe thead th {\n",
       "        text-align: right;\n",
       "    }\n",
       "</style>\n",
       "<table border=\"1\" class=\"dataframe\">\n",
       "  <thead>\n",
       "    <tr style=\"text-align: right;\">\n",
       "      <th></th>\n",
       "      <th>Product</th>\n",
       "      <th>Age</th>\n",
       "      <th>Gender</th>\n",
       "      <th>Education</th>\n",
       "      <th>MaritalStatus</th>\n",
       "      <th>Usage</th>\n",
       "      <th>Fitness</th>\n",
       "      <th>Income</th>\n",
       "      <th>Miles</th>\n",
       "      <th>Age_bins</th>\n",
       "      <th>Income_bins</th>\n",
       "    </tr>\n",
       "  </thead>\n",
       "  <tbody>\n",
       "    <tr>\n",
       "      <th>69</th>\n",
       "      <td>KP281</td>\n",
       "      <td>38</td>\n",
       "      <td>Female</td>\n",
       "      <td>14</td>\n",
       "      <td>Partnered</td>\n",
       "      <td>2</td>\n",
       "      <td>3</td>\n",
       "      <td>54576</td>\n",
       "      <td>56</td>\n",
       "      <td>30-40</td>\n",
       "      <td>50k-75k</td>\n",
       "    </tr>\n",
       "    <tr>\n",
       "      <th>122</th>\n",
       "      <td>KP481</td>\n",
       "      <td>33</td>\n",
       "      <td>Male</td>\n",
       "      <td>16</td>\n",
       "      <td>Partnered</td>\n",
       "      <td>3</td>\n",
       "      <td>3</td>\n",
       "      <td>51165</td>\n",
       "      <td>95</td>\n",
       "      <td>30-40</td>\n",
       "      <td>50k-75k</td>\n",
       "    </tr>\n",
       "    <tr>\n",
       "      <th>12</th>\n",
       "      <td>KP281</td>\n",
       "      <td>22</td>\n",
       "      <td>Female</td>\n",
       "      <td>16</td>\n",
       "      <td>Single</td>\n",
       "      <td>4</td>\n",
       "      <td>3</td>\n",
       "      <td>36384</td>\n",
       "      <td>75</td>\n",
       "      <td>18-30</td>\n",
       "      <td>29k-50k</td>\n",
       "    </tr>\n",
       "    <tr>\n",
       "      <th>56</th>\n",
       "      <td>KP281</td>\n",
       "      <td>31</td>\n",
       "      <td>Female</td>\n",
       "      <td>14</td>\n",
       "      <td>Single</td>\n",
       "      <td>2</td>\n",
       "      <td>2</td>\n",
       "      <td>45480</td>\n",
       "      <td>47</td>\n",
       "      <td>30-40</td>\n",
       "      <td>29k-50k</td>\n",
       "    </tr>\n",
       "    <tr>\n",
       "      <th>130</th>\n",
       "      <td>KP481</td>\n",
       "      <td>35</td>\n",
       "      <td>Female</td>\n",
       "      <td>16</td>\n",
       "      <td>Single</td>\n",
       "      <td>3</td>\n",
       "      <td>2</td>\n",
       "      <td>50028</td>\n",
       "      <td>64</td>\n",
       "      <td>30-40</td>\n",
       "      <td>50k-75k</td>\n",
       "    </tr>\n",
       "    <tr>\n",
       "      <th>125</th>\n",
       "      <td>KP481</td>\n",
       "      <td>34</td>\n",
       "      <td>Female</td>\n",
       "      <td>16</td>\n",
       "      <td>Partnered</td>\n",
       "      <td>4</td>\n",
       "      <td>3</td>\n",
       "      <td>64809</td>\n",
       "      <td>95</td>\n",
       "      <td>30-40</td>\n",
       "      <td>50k-75k</td>\n",
       "    </tr>\n",
       "    <tr>\n",
       "      <th>176</th>\n",
       "      <td>KP781</td>\n",
       "      <td>42</td>\n",
       "      <td>Male</td>\n",
       "      <td>18</td>\n",
       "      <td>Single</td>\n",
       "      <td>5</td>\n",
       "      <td>4</td>\n",
       "      <td>89641</td>\n",
       "      <td>200</td>\n",
       "      <td>40-50</td>\n",
       "      <td>75k-110k</td>\n",
       "    </tr>\n",
       "    <tr>\n",
       "      <th>68</th>\n",
       "      <td>KP281</td>\n",
       "      <td>38</td>\n",
       "      <td>Male</td>\n",
       "      <td>16</td>\n",
       "      <td>Partnered</td>\n",
       "      <td>3</td>\n",
       "      <td>3</td>\n",
       "      <td>46617</td>\n",
       "      <td>75</td>\n",
       "      <td>30-40</td>\n",
       "      <td>29k-50k</td>\n",
       "    </tr>\n",
       "    <tr>\n",
       "      <th>83</th>\n",
       "      <td>KP481</td>\n",
       "      <td>20</td>\n",
       "      <td>Male</td>\n",
       "      <td>14</td>\n",
       "      <td>Single</td>\n",
       "      <td>3</td>\n",
       "      <td>3</td>\n",
       "      <td>38658</td>\n",
       "      <td>95</td>\n",
       "      <td>18-30</td>\n",
       "      <td>29k-50k</td>\n",
       "    </tr>\n",
       "    <tr>\n",
       "      <th>33</th>\n",
       "      <td>KP281</td>\n",
       "      <td>25</td>\n",
       "      <td>Male</td>\n",
       "      <td>16</td>\n",
       "      <td>Single</td>\n",
       "      <td>3</td>\n",
       "      <td>3</td>\n",
       "      <td>43206</td>\n",
       "      <td>85</td>\n",
       "      <td>18-30</td>\n",
       "      <td>29k-50k</td>\n",
       "    </tr>\n",
       "  </tbody>\n",
       "</table>\n",
       "</div>"
      ],
      "text/plain": [
       "    Product  Age  Gender  Education MaritalStatus  Usage  Fitness  Income  \\\n",
       "69    KP281   38  Female         14     Partnered      2        3   54576   \n",
       "122   KP481   33    Male         16     Partnered      3        3   51165   \n",
       "12    KP281   22  Female         16        Single      4        3   36384   \n",
       "56    KP281   31  Female         14        Single      2        2   45480   \n",
       "130   KP481   35  Female         16        Single      3        2   50028   \n",
       "125   KP481   34  Female         16     Partnered      4        3   64809   \n",
       "176   KP781   42    Male         18        Single      5        4   89641   \n",
       "68    KP281   38    Male         16     Partnered      3        3   46617   \n",
       "83    KP481   20    Male         14        Single      3        3   38658   \n",
       "33    KP281   25    Male         16        Single      3        3   43206   \n",
       "\n",
       "     Miles Age_bins Income_bins  \n",
       "69      56    30-40     50k-75k  \n",
       "122     95    30-40     50k-75k  \n",
       "12      75    18-30     29k-50k  \n",
       "56      47    30-40     29k-50k  \n",
       "130     64    30-40     50k-75k  \n",
       "125     95    30-40     50k-75k  \n",
       "176    200    40-50    75k-110k  \n",
       "68      75    30-40     29k-50k  \n",
       "83      95    18-30     29k-50k  \n",
       "33      85    18-30     29k-50k  "
      ]
     },
     "execution_count": 30,
     "metadata": {},
     "output_type": "execute_result"
    }
   ],
   "source": [
    "income_bins = [29000,50000,75000,110000]\n",
    "income_labels = ['29k-50k', '50k-75k', '75k-110k']\n",
    "aerofit_data['Income_bins'] = pd.cut(aerofit_data['Income'],bins=income_bins,labels=income_labels)\n",
    "aerofit_data.sample(10)"
   ]
  },
  {
   "cell_type": "code",
   "execution_count": 31,
   "id": "f15418cd-0706-49fe-ab6a-dcf66d8b0ad6",
   "metadata": {},
   "outputs": [
    {
     "data": {
      "text/html": [
       "<div>\n",
       "<style scoped>\n",
       "    .dataframe tbody tr th:only-of-type {\n",
       "        vertical-align: middle;\n",
       "    }\n",
       "\n",
       "    .dataframe tbody tr th {\n",
       "        vertical-align: top;\n",
       "    }\n",
       "\n",
       "    .dataframe thead th {\n",
       "        text-align: right;\n",
       "    }\n",
       "</style>\n",
       "<table border=\"1\" class=\"dataframe\">\n",
       "  <thead>\n",
       "    <tr style=\"text-align: right;\">\n",
       "      <th></th>\n",
       "      <th>Product</th>\n",
       "      <th>Age</th>\n",
       "      <th>Gender</th>\n",
       "      <th>Education</th>\n",
       "      <th>MaritalStatus</th>\n",
       "      <th>Usage</th>\n",
       "      <th>Fitness</th>\n",
       "      <th>Income</th>\n",
       "      <th>Miles</th>\n",
       "      <th>Age_bins</th>\n",
       "      <th>Income_bins</th>\n",
       "      <th>Miles_bins</th>\n",
       "    </tr>\n",
       "  </thead>\n",
       "  <tbody>\n",
       "    <tr>\n",
       "      <th>73</th>\n",
       "      <td>KP281</td>\n",
       "      <td>40</td>\n",
       "      <td>Male</td>\n",
       "      <td>16</td>\n",
       "      <td>Partnered</td>\n",
       "      <td>3</td>\n",
       "      <td>3</td>\n",
       "      <td>61398</td>\n",
       "      <td>66</td>\n",
       "      <td>30-40</td>\n",
       "      <td>50k-75k</td>\n",
       "      <td>20-100</td>\n",
       "    </tr>\n",
       "    <tr>\n",
       "      <th>120</th>\n",
       "      <td>KP481</td>\n",
       "      <td>33</td>\n",
       "      <td>Male</td>\n",
       "      <td>13</td>\n",
       "      <td>Partnered</td>\n",
       "      <td>4</td>\n",
       "      <td>4</td>\n",
       "      <td>53439</td>\n",
       "      <td>170</td>\n",
       "      <td>30-40</td>\n",
       "      <td>50k-75k</td>\n",
       "      <td>100-200</td>\n",
       "    </tr>\n",
       "    <tr>\n",
       "      <th>145</th>\n",
       "      <td>KP781</td>\n",
       "      <td>23</td>\n",
       "      <td>Male</td>\n",
       "      <td>16</td>\n",
       "      <td>Single</td>\n",
       "      <td>4</td>\n",
       "      <td>5</td>\n",
       "      <td>48556</td>\n",
       "      <td>100</td>\n",
       "      <td>18-30</td>\n",
       "      <td>29k-50k</td>\n",
       "      <td>20-100</td>\n",
       "    </tr>\n",
       "    <tr>\n",
       "      <th>98</th>\n",
       "      <td>KP481</td>\n",
       "      <td>25</td>\n",
       "      <td>Female</td>\n",
       "      <td>14</td>\n",
       "      <td>Single</td>\n",
       "      <td>3</td>\n",
       "      <td>4</td>\n",
       "      <td>43206</td>\n",
       "      <td>127</td>\n",
       "      <td>18-30</td>\n",
       "      <td>29k-50k</td>\n",
       "      <td>100-200</td>\n",
       "    </tr>\n",
       "    <tr>\n",
       "      <th>91</th>\n",
       "      <td>KP481</td>\n",
       "      <td>23</td>\n",
       "      <td>Female</td>\n",
       "      <td>16</td>\n",
       "      <td>Partnered</td>\n",
       "      <td>3</td>\n",
       "      <td>2</td>\n",
       "      <td>43206</td>\n",
       "      <td>74</td>\n",
       "      <td>18-30</td>\n",
       "      <td>29k-50k</td>\n",
       "      <td>20-100</td>\n",
       "    </tr>\n",
       "    <tr>\n",
       "      <th>84</th>\n",
       "      <td>KP481</td>\n",
       "      <td>21</td>\n",
       "      <td>Female</td>\n",
       "      <td>14</td>\n",
       "      <td>Partnered</td>\n",
       "      <td>5</td>\n",
       "      <td>4</td>\n",
       "      <td>34110</td>\n",
       "      <td>212</td>\n",
       "      <td>18-30</td>\n",
       "      <td>29k-50k</td>\n",
       "      <td>200-300</td>\n",
       "    </tr>\n",
       "    <tr>\n",
       "      <th>63</th>\n",
       "      <td>KP281</td>\n",
       "      <td>35</td>\n",
       "      <td>Male</td>\n",
       "      <td>16</td>\n",
       "      <td>Partnered</td>\n",
       "      <td>4</td>\n",
       "      <td>3</td>\n",
       "      <td>48891</td>\n",
       "      <td>85</td>\n",
       "      <td>30-40</td>\n",
       "      <td>29k-50k</td>\n",
       "      <td>20-100</td>\n",
       "    </tr>\n",
       "    <tr>\n",
       "      <th>146</th>\n",
       "      <td>KP781</td>\n",
       "      <td>24</td>\n",
       "      <td>Male</td>\n",
       "      <td>16</td>\n",
       "      <td>Single</td>\n",
       "      <td>4</td>\n",
       "      <td>5</td>\n",
       "      <td>61006</td>\n",
       "      <td>100</td>\n",
       "      <td>18-30</td>\n",
       "      <td>50k-75k</td>\n",
       "      <td>20-100</td>\n",
       "    </tr>\n",
       "    <tr>\n",
       "      <th>75</th>\n",
       "      <td>KP281</td>\n",
       "      <td>43</td>\n",
       "      <td>Male</td>\n",
       "      <td>16</td>\n",
       "      <td>Partnered</td>\n",
       "      <td>3</td>\n",
       "      <td>3</td>\n",
       "      <td>53439</td>\n",
       "      <td>66</td>\n",
       "      <td>40-50</td>\n",
       "      <td>50k-75k</td>\n",
       "      <td>20-100</td>\n",
       "    </tr>\n",
       "    <tr>\n",
       "      <th>29</th>\n",
       "      <td>KP281</td>\n",
       "      <td>25</td>\n",
       "      <td>Female</td>\n",
       "      <td>14</td>\n",
       "      <td>Partnered</td>\n",
       "      <td>2</td>\n",
       "      <td>2</td>\n",
       "      <td>53439</td>\n",
       "      <td>47</td>\n",
       "      <td>18-30</td>\n",
       "      <td>50k-75k</td>\n",
       "      <td>20-100</td>\n",
       "    </tr>\n",
       "  </tbody>\n",
       "</table>\n",
       "</div>"
      ],
      "text/plain": [
       "    Product  Age  Gender  Education MaritalStatus  Usage  Fitness  Income  \\\n",
       "73    KP281   40    Male         16     Partnered      3        3   61398   \n",
       "120   KP481   33    Male         13     Partnered      4        4   53439   \n",
       "145   KP781   23    Male         16        Single      4        5   48556   \n",
       "98    KP481   25  Female         14        Single      3        4   43206   \n",
       "91    KP481   23  Female         16     Partnered      3        2   43206   \n",
       "84    KP481   21  Female         14     Partnered      5        4   34110   \n",
       "63    KP281   35    Male         16     Partnered      4        3   48891   \n",
       "146   KP781   24    Male         16        Single      4        5   61006   \n",
       "75    KP281   43    Male         16     Partnered      3        3   53439   \n",
       "29    KP281   25  Female         14     Partnered      2        2   53439   \n",
       "\n",
       "     Miles Age_bins Income_bins Miles_bins  \n",
       "73      66    30-40     50k-75k     20-100  \n",
       "120    170    30-40     50k-75k    100-200  \n",
       "145    100    18-30     29k-50k     20-100  \n",
       "98     127    18-30     29k-50k    100-200  \n",
       "91      74    18-30     29k-50k     20-100  \n",
       "84     212    18-30     29k-50k    200-300  \n",
       "63      85    30-40     29k-50k     20-100  \n",
       "146    100    18-30     50k-75k     20-100  \n",
       "75      66    40-50     50k-75k     20-100  \n",
       "29      47    18-30     50k-75k     20-100  "
      ]
     },
     "execution_count": 31,
     "metadata": {},
     "output_type": "execute_result"
    }
   ],
   "source": [
    "miles_bins = [20,100,200,300,400]\n",
    "miles_labels = ['20-100','100-200', '200-300','300-400']\n",
    "aerofit_data['Miles_bins'] = pd.cut(aerofit_data['Miles'],bins=miles_bins,labels=miles_labels)\n",
    "aerofit_data.sample(10)"
   ]
  },
  {
   "cell_type": "code",
   "execution_count": 32,
   "id": "77be79aa-a923-4528-946f-b3db94781730",
   "metadata": {},
   "outputs": [
    {
     "data": {
      "text/html": [
       "<div>\n",
       "<style scoped>\n",
       "    .dataframe tbody tr th:only-of-type {\n",
       "        vertical-align: middle;\n",
       "    }\n",
       "\n",
       "    .dataframe tbody tr th {\n",
       "        vertical-align: top;\n",
       "    }\n",
       "\n",
       "    .dataframe thead th {\n",
       "        text-align: right;\n",
       "    }\n",
       "</style>\n",
       "<table border=\"1\" class=\"dataframe\">\n",
       "  <thead>\n",
       "    <tr style=\"text-align: right;\">\n",
       "      <th></th>\n",
       "      <th>Product</th>\n",
       "      <th>Age</th>\n",
       "      <th>Gender</th>\n",
       "      <th>Education</th>\n",
       "      <th>MaritalStatus</th>\n",
       "      <th>Usage</th>\n",
       "      <th>Fitness</th>\n",
       "      <th>Income</th>\n",
       "      <th>Miles</th>\n",
       "      <th>Age_bins</th>\n",
       "      <th>Income_bins</th>\n",
       "      <th>Miles_bins</th>\n",
       "      <th>Education_bins</th>\n",
       "    </tr>\n",
       "  </thead>\n",
       "  <tbody>\n",
       "    <tr>\n",
       "      <th>132</th>\n",
       "      <td>KP481</td>\n",
       "      <td>37</td>\n",
       "      <td>Female</td>\n",
       "      <td>16</td>\n",
       "      <td>Partnered</td>\n",
       "      <td>2</td>\n",
       "      <td>3</td>\n",
       "      <td>48891</td>\n",
       "      <td>85</td>\n",
       "      <td>30-40</td>\n",
       "      <td>29k-50k</td>\n",
       "      <td>20-100</td>\n",
       "      <td>14-16</td>\n",
       "    </tr>\n",
       "    <tr>\n",
       "      <th>120</th>\n",
       "      <td>KP481</td>\n",
       "      <td>33</td>\n",
       "      <td>Male</td>\n",
       "      <td>13</td>\n",
       "      <td>Partnered</td>\n",
       "      <td>4</td>\n",
       "      <td>4</td>\n",
       "      <td>53439</td>\n",
       "      <td>170</td>\n",
       "      <td>30-40</td>\n",
       "      <td>50k-75k</td>\n",
       "      <td>100-200</td>\n",
       "      <td>12-14</td>\n",
       "    </tr>\n",
       "    <tr>\n",
       "      <th>19</th>\n",
       "      <td>KP281</td>\n",
       "      <td>23</td>\n",
       "      <td>Female</td>\n",
       "      <td>15</td>\n",
       "      <td>Partnered</td>\n",
       "      <td>2</td>\n",
       "      <td>2</td>\n",
       "      <td>34110</td>\n",
       "      <td>38</td>\n",
       "      <td>18-30</td>\n",
       "      <td>29k-50k</td>\n",
       "      <td>20-100</td>\n",
       "      <td>14-16</td>\n",
       "    </tr>\n",
       "    <tr>\n",
       "      <th>113</th>\n",
       "      <td>KP481</td>\n",
       "      <td>30</td>\n",
       "      <td>Female</td>\n",
       "      <td>14</td>\n",
       "      <td>Single</td>\n",
       "      <td>3</td>\n",
       "      <td>3</td>\n",
       "      <td>57987</td>\n",
       "      <td>74</td>\n",
       "      <td>18-30</td>\n",
       "      <td>50k-75k</td>\n",
       "      <td>20-100</td>\n",
       "      <td>12-14</td>\n",
       "    </tr>\n",
       "    <tr>\n",
       "      <th>67</th>\n",
       "      <td>KP281</td>\n",
       "      <td>37</td>\n",
       "      <td>Female</td>\n",
       "      <td>16</td>\n",
       "      <td>Partnered</td>\n",
       "      <td>3</td>\n",
       "      <td>3</td>\n",
       "      <td>37521</td>\n",
       "      <td>85</td>\n",
       "      <td>30-40</td>\n",
       "      <td>29k-50k</td>\n",
       "      <td>20-100</td>\n",
       "      <td>14-16</td>\n",
       "    </tr>\n",
       "    <tr>\n",
       "      <th>87</th>\n",
       "      <td>KP481</td>\n",
       "      <td>23</td>\n",
       "      <td>Male</td>\n",
       "      <td>14</td>\n",
       "      <td>Partnered</td>\n",
       "      <td>3</td>\n",
       "      <td>3</td>\n",
       "      <td>36384</td>\n",
       "      <td>95</td>\n",
       "      <td>18-30</td>\n",
       "      <td>29k-50k</td>\n",
       "      <td>20-100</td>\n",
       "      <td>12-14</td>\n",
       "    </tr>\n",
       "    <tr>\n",
       "      <th>43</th>\n",
       "      <td>KP281</td>\n",
       "      <td>27</td>\n",
       "      <td>Female</td>\n",
       "      <td>14</td>\n",
       "      <td>Partnered</td>\n",
       "      <td>2</td>\n",
       "      <td>3</td>\n",
       "      <td>45480</td>\n",
       "      <td>56</td>\n",
       "      <td>18-30</td>\n",
       "      <td>29k-50k</td>\n",
       "      <td>20-100</td>\n",
       "      <td>12-14</td>\n",
       "    </tr>\n",
       "    <tr>\n",
       "      <th>162</th>\n",
       "      <td>KP781</td>\n",
       "      <td>28</td>\n",
       "      <td>Female</td>\n",
       "      <td>18</td>\n",
       "      <td>Partnered</td>\n",
       "      <td>6</td>\n",
       "      <td>5</td>\n",
       "      <td>92131</td>\n",
       "      <td>180</td>\n",
       "      <td>18-30</td>\n",
       "      <td>75k-110k</td>\n",
       "      <td>100-200</td>\n",
       "      <td>16-18</td>\n",
       "    </tr>\n",
       "    <tr>\n",
       "      <th>70</th>\n",
       "      <td>KP281</td>\n",
       "      <td>38</td>\n",
       "      <td>Male</td>\n",
       "      <td>14</td>\n",
       "      <td>Single</td>\n",
       "      <td>2</td>\n",
       "      <td>3</td>\n",
       "      <td>52302</td>\n",
       "      <td>56</td>\n",
       "      <td>30-40</td>\n",
       "      <td>50k-75k</td>\n",
       "      <td>20-100</td>\n",
       "      <td>12-14</td>\n",
       "    </tr>\n",
       "    <tr>\n",
       "      <th>123</th>\n",
       "      <td>KP481</td>\n",
       "      <td>33</td>\n",
       "      <td>Female</td>\n",
       "      <td>16</td>\n",
       "      <td>Partnered</td>\n",
       "      <td>5</td>\n",
       "      <td>3</td>\n",
       "      <td>53439</td>\n",
       "      <td>95</td>\n",
       "      <td>30-40</td>\n",
       "      <td>50k-75k</td>\n",
       "      <td>20-100</td>\n",
       "      <td>14-16</td>\n",
       "    </tr>\n",
       "  </tbody>\n",
       "</table>\n",
       "</div>"
      ],
      "text/plain": [
       "    Product  Age  Gender  Education MaritalStatus  Usage  Fitness  Income  \\\n",
       "132   KP481   37  Female         16     Partnered      2        3   48891   \n",
       "120   KP481   33    Male         13     Partnered      4        4   53439   \n",
       "19    KP281   23  Female         15     Partnered      2        2   34110   \n",
       "113   KP481   30  Female         14        Single      3        3   57987   \n",
       "67    KP281   37  Female         16     Partnered      3        3   37521   \n",
       "87    KP481   23    Male         14     Partnered      3        3   36384   \n",
       "43    KP281   27  Female         14     Partnered      2        3   45480   \n",
       "162   KP781   28  Female         18     Partnered      6        5   92131   \n",
       "70    KP281   38    Male         14        Single      2        3   52302   \n",
       "123   KP481   33  Female         16     Partnered      5        3   53439   \n",
       "\n",
       "     Miles Age_bins Income_bins Miles_bins Education_bins  \n",
       "132     85    30-40     29k-50k     20-100          14-16  \n",
       "120    170    30-40     50k-75k    100-200          12-14  \n",
       "19      38    18-30     29k-50k     20-100          14-16  \n",
       "113     74    18-30     50k-75k     20-100          12-14  \n",
       "67      85    30-40     29k-50k     20-100          14-16  \n",
       "87      95    18-30     29k-50k     20-100          12-14  \n",
       "43      56    18-30     29k-50k     20-100          12-14  \n",
       "162    180    18-30    75k-110k    100-200          16-18  \n",
       "70      56    30-40     50k-75k     20-100          12-14  \n",
       "123     95    30-40     50k-75k     20-100          14-16  "
      ]
     },
     "execution_count": 32,
     "metadata": {},
     "output_type": "execute_result"
    }
   ],
   "source": [
    "miles_bins = [11,14,16,18,22]\n",
    "miles_labels = ['12-14','14-16', '16-18','18-21']\n",
    "aerofit_data['Education_bins'] = pd.cut(aerofit_data['Education'],bins=miles_bins,labels=miles_labels)\n",
    "aerofit_data.sample(10)"
   ]
  },
  {
   "cell_type": "markdown",
   "id": "9e9b1684-33ae-409d-a498-4d89518ac3e6",
   "metadata": {},
   "source": [
    "### Probability with Crosstab"
   ]
  },
  {
   "cell_type": "markdown",
   "id": "90dbca15-796d-4fd3-bb83-167b92366f41",
   "metadata": {},
   "source": [
    "#### Age Conditional"
   ]
  },
  {
   "cell_type": "code",
   "execution_count": 33,
   "id": "2e91f9c0-7e44-45d1-bd6a-be390688c40d",
   "metadata": {},
   "outputs": [
    {
     "data": {
      "text/html": [
       "<div>\n",
       "<style scoped>\n",
       "    .dataframe tbody tr th:only-of-type {\n",
       "        vertical-align: middle;\n",
       "    }\n",
       "\n",
       "    .dataframe tbody tr th {\n",
       "        vertical-align: top;\n",
       "    }\n",
       "\n",
       "    .dataframe thead th {\n",
       "        text-align: right;\n",
       "    }\n",
       "</style>\n",
       "<table border=\"1\" class=\"dataframe\">\n",
       "  <thead>\n",
       "    <tr style=\"text-align: right;\">\n",
       "      <th>Product</th>\n",
       "      <th>KP281</th>\n",
       "      <th>KP481</th>\n",
       "      <th>KP781</th>\n",
       "    </tr>\n",
       "    <tr>\n",
       "      <th>Age_bins</th>\n",
       "      <th></th>\n",
       "      <th></th>\n",
       "      <th></th>\n",
       "    </tr>\n",
       "  </thead>\n",
       "  <tbody>\n",
       "    <tr>\n",
       "      <th>18-30</th>\n",
       "      <td>0.46</td>\n",
       "      <td>0.29</td>\n",
       "      <td>0.25</td>\n",
       "    </tr>\n",
       "    <tr>\n",
       "      <th>30-40</th>\n",
       "      <td>0.40</td>\n",
       "      <td>0.48</td>\n",
       "      <td>0.12</td>\n",
       "    </tr>\n",
       "    <tr>\n",
       "      <th>40-50</th>\n",
       "      <td>0.50</td>\n",
       "      <td>0.17</td>\n",
       "      <td>0.33</td>\n",
       "    </tr>\n",
       "    <tr>\n",
       "      <th>All</th>\n",
       "      <td>0.44</td>\n",
       "      <td>0.33</td>\n",
       "      <td>0.22</td>\n",
       "    </tr>\n",
       "  </tbody>\n",
       "</table>\n",
       "</div>"
      ],
      "text/plain": [
       "Product   KP281  KP481  KP781\n",
       "Age_bins                     \n",
       "18-30      0.46   0.29   0.25\n",
       "30-40      0.40   0.48   0.12\n",
       "40-50      0.50   0.17   0.33\n",
       "All        0.44   0.33   0.22"
      ]
     },
     "execution_count": 33,
     "metadata": {},
     "output_type": "execute_result"
    }
   ],
   "source": [
    "pd.crosstab(aerofit_data['Age_bins'], aerofit_data['Product'], margins=True,\n",
    "                        normalize='index').round(2)"
   ]
  },
  {
   "cell_type": "markdown",
   "id": "e2373fa3-c53e-4cc4-b136-8cf5d1379c30",
   "metadata": {},
   "source": [
    "`Conditional Probability:`\\\n",
    "`30-40 age group adult mostly prefer KP481 product with 48% probability`\\\n",
    "`KP781 product has highest probability 33% in 40-50 age bracket.`\\\n",
    "`Any age group adult mostly prefer KP281 product with 40-50% probability.`"
   ]
  },
  {
   "cell_type": "markdown",
   "id": "51e2a8ee-9663-422d-8374-c9e1492a6109",
   "metadata": {},
   "source": [
    "#### Age Marginal"
   ]
  },
  {
   "cell_type": "code",
   "execution_count": 34,
   "id": "713c54db-61d7-438a-85b5-2797d5de7ce9",
   "metadata": {},
   "outputs": [
    {
     "data": {
      "text/html": [
       "<div>\n",
       "<style scoped>\n",
       "    .dataframe tbody tr th:only-of-type {\n",
       "        vertical-align: middle;\n",
       "    }\n",
       "\n",
       "    .dataframe tbody tr th {\n",
       "        vertical-align: top;\n",
       "    }\n",
       "\n",
       "    .dataframe thead th {\n",
       "        text-align: right;\n",
       "    }\n",
       "</style>\n",
       "<table border=\"1\" class=\"dataframe\">\n",
       "  <thead>\n",
       "    <tr style=\"text-align: right;\">\n",
       "      <th>Product</th>\n",
       "      <th>KP281</th>\n",
       "      <th>KP481</th>\n",
       "      <th>KP781</th>\n",
       "      <th>All</th>\n",
       "    </tr>\n",
       "    <tr>\n",
       "      <th>Age_bins</th>\n",
       "      <th></th>\n",
       "      <th></th>\n",
       "      <th></th>\n",
       "      <th></th>\n",
       "    </tr>\n",
       "  </thead>\n",
       "  <tbody>\n",
       "    <tr>\n",
       "      <th>18-30</th>\n",
       "      <td>0.31</td>\n",
       "      <td>0.19</td>\n",
       "      <td>0.17</td>\n",
       "      <td>0.67</td>\n",
       "    </tr>\n",
       "    <tr>\n",
       "      <th>30-40</th>\n",
       "      <td>0.11</td>\n",
       "      <td>0.13</td>\n",
       "      <td>0.03</td>\n",
       "      <td>0.27</td>\n",
       "    </tr>\n",
       "    <tr>\n",
       "      <th>40-50</th>\n",
       "      <td>0.03</td>\n",
       "      <td>0.01</td>\n",
       "      <td>0.02</td>\n",
       "      <td>0.07</td>\n",
       "    </tr>\n",
       "    <tr>\n",
       "      <th>All</th>\n",
       "      <td>0.44</td>\n",
       "      <td>0.33</td>\n",
       "      <td>0.22</td>\n",
       "      <td>1.00</td>\n",
       "    </tr>\n",
       "  </tbody>\n",
       "</table>\n",
       "</div>"
      ],
      "text/plain": [
       "Product   KP281  KP481  KP781   All\n",
       "Age_bins                           \n",
       "18-30      0.31   0.19   0.17  0.67\n",
       "30-40      0.11   0.13   0.03  0.27\n",
       "40-50      0.03   0.01   0.02  0.07\n",
       "All        0.44   0.33   0.22  1.00"
      ]
     },
     "execution_count": 34,
     "metadata": {},
     "output_type": "execute_result"
    }
   ],
   "source": [
    "pd.crosstab(aerofit_data['Age_bins'], aerofit_data['Product'], margins=True,\n",
    "                        normalize=True).round(2)"
   ]
  },
  {
   "cell_type": "markdown",
   "id": "028c3e33-91d9-402a-8797-6c693094482e",
   "metadata": {},
   "source": [
    "`Marginal Probability:`\\\n",
    "`Age group 18-30 has highest probability 67% to buy any product and 40-50 has very low 7%`"
   ]
  },
  {
   "cell_type": "markdown",
   "id": "e5201edc-d0ef-4766-a462-8254816da0aa",
   "metadata": {},
   "source": [
    "#### Income Conditional"
   ]
  },
  {
   "cell_type": "code",
   "execution_count": 35,
   "id": "b8113037-94b5-4a46-8d69-a22d90be4e03",
   "metadata": {},
   "outputs": [
    {
     "data": {
      "text/html": [
       "<div>\n",
       "<style scoped>\n",
       "    .dataframe tbody tr th:only-of-type {\n",
       "        vertical-align: middle;\n",
       "    }\n",
       "\n",
       "    .dataframe tbody tr th {\n",
       "        vertical-align: top;\n",
       "    }\n",
       "\n",
       "    .dataframe thead th {\n",
       "        text-align: right;\n",
       "    }\n",
       "</style>\n",
       "<table border=\"1\" class=\"dataframe\">\n",
       "  <thead>\n",
       "    <tr style=\"text-align: right;\">\n",
       "      <th>Product</th>\n",
       "      <th>KP281</th>\n",
       "      <th>KP481</th>\n",
       "      <th>KP781</th>\n",
       "    </tr>\n",
       "    <tr>\n",
       "      <th>Income_bins</th>\n",
       "      <th></th>\n",
       "      <th></th>\n",
       "      <th></th>\n",
       "    </tr>\n",
       "  </thead>\n",
       "  <tbody>\n",
       "    <tr>\n",
       "      <th>29k-50k</th>\n",
       "      <td>0.58</td>\n",
       "      <td>0.36</td>\n",
       "      <td>0.06</td>\n",
       "    </tr>\n",
       "    <tr>\n",
       "      <th>50k-75k</th>\n",
       "      <td>0.42</td>\n",
       "      <td>0.39</td>\n",
       "      <td>0.18</td>\n",
       "    </tr>\n",
       "    <tr>\n",
       "      <th>75k-110k</th>\n",
       "      <td>0.00</td>\n",
       "      <td>0.00</td>\n",
       "      <td>1.00</td>\n",
       "    </tr>\n",
       "    <tr>\n",
       "      <th>All</th>\n",
       "      <td>0.44</td>\n",
       "      <td>0.33</td>\n",
       "      <td>0.22</td>\n",
       "    </tr>\n",
       "  </tbody>\n",
       "</table>\n",
       "</div>"
      ],
      "text/plain": [
       "Product      KP281  KP481  KP781\n",
       "Income_bins                     \n",
       "29k-50k       0.58   0.36   0.06\n",
       "50k-75k       0.42   0.39   0.18\n",
       "75k-110k      0.00   0.00   1.00\n",
       "All           0.44   0.33   0.22"
      ]
     },
     "execution_count": 35,
     "metadata": {},
     "output_type": "execute_result"
    }
   ],
   "source": [
    "pd.crosstab(aerofit_data['Income_bins'], aerofit_data['Product'], normalize='index', margins=True).round(2)"
   ]
  },
  {
   "cell_type": "markdown",
   "id": "c23f8e17-33f1-42f8-951a-0d136b3ee110",
   "metadata": {},
   "source": [
    "`Probability of Adults coming in Income range 29-75k to buy KP281 in 40-60% range`\\\n",
    "`Where only high income range adults 75k-110k adults are preferring to purchase KP781 with 100% probability`"
   ]
  },
  {
   "cell_type": "markdown",
   "id": "fa476964-64be-4142-bb64-eca06c39f6a1",
   "metadata": {},
   "source": [
    "#### Income Marginal"
   ]
  },
  {
   "cell_type": "code",
   "execution_count": 36,
   "id": "5319948f-3821-472d-a71e-c0bad3fac93b",
   "metadata": {},
   "outputs": [
    {
     "data": {
      "text/html": [
       "<div>\n",
       "<style scoped>\n",
       "    .dataframe tbody tr th:only-of-type {\n",
       "        vertical-align: middle;\n",
       "    }\n",
       "\n",
       "    .dataframe tbody tr th {\n",
       "        vertical-align: top;\n",
       "    }\n",
       "\n",
       "    .dataframe thead th {\n",
       "        text-align: right;\n",
       "    }\n",
       "</style>\n",
       "<table border=\"1\" class=\"dataframe\">\n",
       "  <thead>\n",
       "    <tr style=\"text-align: right;\">\n",
       "      <th>Product</th>\n",
       "      <th>KP281</th>\n",
       "      <th>KP481</th>\n",
       "      <th>KP781</th>\n",
       "      <th>All</th>\n",
       "    </tr>\n",
       "    <tr>\n",
       "      <th>Income_bins</th>\n",
       "      <th></th>\n",
       "      <th></th>\n",
       "      <th></th>\n",
       "      <th></th>\n",
       "    </tr>\n",
       "  </thead>\n",
       "  <tbody>\n",
       "    <tr>\n",
       "      <th>29k-50k</th>\n",
       "      <td>0.27</td>\n",
       "      <td>0.17</td>\n",
       "      <td>0.03</td>\n",
       "      <td>0.46</td>\n",
       "    </tr>\n",
       "    <tr>\n",
       "      <th>50k-75k</th>\n",
       "      <td>0.18</td>\n",
       "      <td>0.17</td>\n",
       "      <td>0.08</td>\n",
       "      <td>0.42</td>\n",
       "    </tr>\n",
       "    <tr>\n",
       "      <th>75k-110k</th>\n",
       "      <td>0.00</td>\n",
       "      <td>0.00</td>\n",
       "      <td>0.12</td>\n",
       "      <td>0.12</td>\n",
       "    </tr>\n",
       "    <tr>\n",
       "      <th>All</th>\n",
       "      <td>0.44</td>\n",
       "      <td>0.33</td>\n",
       "      <td>0.22</td>\n",
       "      <td>1.00</td>\n",
       "    </tr>\n",
       "  </tbody>\n",
       "</table>\n",
       "</div>"
      ],
      "text/plain": [
       "Product      KP281  KP481  KP781   All\n",
       "Income_bins                           \n",
       "29k-50k       0.27   0.17   0.03  0.46\n",
       "50k-75k       0.18   0.17   0.08  0.42\n",
       "75k-110k      0.00   0.00   0.12  0.12\n",
       "All           0.44   0.33   0.22  1.00"
      ]
     },
     "execution_count": 36,
     "metadata": {},
     "output_type": "execute_result"
    }
   ],
   "source": [
    "pd.crosstab(aerofit_data['Income_bins'], aerofit_data['Product'], normalize=True, margins=True).round(2)"
   ]
  },
  {
   "cell_type": "markdown",
   "id": "e6265f57-f2ea-4afc-98b3-d1208c778ff5",
   "metadata": {},
   "source": [
    "`Income range 29-75k adults have purchasing any product is around 88% and 75k-110k has only 12% .`"
   ]
  },
  {
   "cell_type": "markdown",
   "id": "cadfaff7-63ad-4fd1-a8af-b5b2a57ad7e7",
   "metadata": {
    "tags": []
   },
   "source": [
    "#### Miles Cond."
   ]
  },
  {
   "cell_type": "code",
   "execution_count": 37,
   "id": "f1c646fb-b6fd-418f-9790-7bd76a8d99fe",
   "metadata": {},
   "outputs": [
    {
     "data": {
      "text/html": [
       "<div>\n",
       "<style scoped>\n",
       "    .dataframe tbody tr th:only-of-type {\n",
       "        vertical-align: middle;\n",
       "    }\n",
       "\n",
       "    .dataframe tbody tr th {\n",
       "        vertical-align: top;\n",
       "    }\n",
       "\n",
       "    .dataframe thead th {\n",
       "        text-align: right;\n",
       "    }\n",
       "</style>\n",
       "<table border=\"1\" class=\"dataframe\">\n",
       "  <thead>\n",
       "    <tr style=\"text-align: right;\">\n",
       "      <th>Product</th>\n",
       "      <th>KP281</th>\n",
       "      <th>KP481</th>\n",
       "      <th>KP781</th>\n",
       "    </tr>\n",
       "    <tr>\n",
       "      <th>Miles_bins</th>\n",
       "      <th></th>\n",
       "      <th></th>\n",
       "      <th></th>\n",
       "    </tr>\n",
       "  </thead>\n",
       "  <tbody>\n",
       "    <tr>\n",
       "      <th>20-100</th>\n",
       "      <td>0.54</td>\n",
       "      <td>0.39</td>\n",
       "      <td>0.07</td>\n",
       "    </tr>\n",
       "    <tr>\n",
       "      <th>100-200</th>\n",
       "      <td>0.30</td>\n",
       "      <td>0.25</td>\n",
       "      <td>0.45</td>\n",
       "    </tr>\n",
       "    <tr>\n",
       "      <th>200-300</th>\n",
       "      <td>0.00</td>\n",
       "      <td>0.20</td>\n",
       "      <td>0.80</td>\n",
       "    </tr>\n",
       "    <tr>\n",
       "      <th>300-400</th>\n",
       "      <td>0.00</td>\n",
       "      <td>0.00</td>\n",
       "      <td>1.00</td>\n",
       "    </tr>\n",
       "    <tr>\n",
       "      <th>All</th>\n",
       "      <td>0.44</td>\n",
       "      <td>0.33</td>\n",
       "      <td>0.22</td>\n",
       "    </tr>\n",
       "  </tbody>\n",
       "</table>\n",
       "</div>"
      ],
      "text/plain": [
       "Product     KP281  KP481  KP781\n",
       "Miles_bins                     \n",
       "20-100       0.54   0.39   0.07\n",
       "100-200      0.30   0.25   0.45\n",
       "200-300      0.00   0.20   0.80\n",
       "300-400      0.00   0.00   1.00\n",
       "All          0.44   0.33   0.22"
      ]
     },
     "execution_count": 37,
     "metadata": {},
     "output_type": "execute_result"
    }
   ],
   "source": [
    "pd.crosstab(aerofit_data['Miles_bins'], aerofit_data['Product'], normalize='index', margins=True).round(2)"
   ]
  },
  {
   "cell_type": "markdown",
   "id": "30914a30-0502-4e54-8b81-f62962257631",
   "metadata": {},
   "source": [
    "`For 20-100 miles, KP281 with 54% most purchased product and 39% KP481`\\\n",
    "`From mid to high miles, KP781 product most purchased from 50-100% probability.`"
   ]
  },
  {
   "cell_type": "markdown",
   "id": "1308371b-a34f-4e5f-8795-074819dad601",
   "metadata": {
    "jp-MarkdownHeadingCollapsed": true,
    "tags": []
   },
   "source": [
    "#### Miles Marg."
   ]
  },
  {
   "cell_type": "code",
   "execution_count": 38,
   "id": "87d7615d-9c0a-4d0c-a178-e6747e580957",
   "metadata": {},
   "outputs": [
    {
     "data": {
      "text/html": [
       "<div>\n",
       "<style scoped>\n",
       "    .dataframe tbody tr th:only-of-type {\n",
       "        vertical-align: middle;\n",
       "    }\n",
       "\n",
       "    .dataframe tbody tr th {\n",
       "        vertical-align: top;\n",
       "    }\n",
       "\n",
       "    .dataframe thead th {\n",
       "        text-align: right;\n",
       "    }\n",
       "</style>\n",
       "<table border=\"1\" class=\"dataframe\">\n",
       "  <thead>\n",
       "    <tr style=\"text-align: right;\">\n",
       "      <th>Product</th>\n",
       "      <th>KP281</th>\n",
       "      <th>KP481</th>\n",
       "      <th>KP781</th>\n",
       "      <th>All</th>\n",
       "    </tr>\n",
       "    <tr>\n",
       "      <th>Miles_bins</th>\n",
       "      <th></th>\n",
       "      <th></th>\n",
       "      <th></th>\n",
       "      <th></th>\n",
       "    </tr>\n",
       "  </thead>\n",
       "  <tbody>\n",
       "    <tr>\n",
       "      <th>20-100</th>\n",
       "      <td>0.34</td>\n",
       "      <td>0.24</td>\n",
       "      <td>0.04</td>\n",
       "      <td>0.63</td>\n",
       "    </tr>\n",
       "    <tr>\n",
       "      <th>100-200</th>\n",
       "      <td>0.10</td>\n",
       "      <td>0.08</td>\n",
       "      <td>0.15</td>\n",
       "      <td>0.33</td>\n",
       "    </tr>\n",
       "    <tr>\n",
       "      <th>200-300</th>\n",
       "      <td>0.00</td>\n",
       "      <td>0.01</td>\n",
       "      <td>0.02</td>\n",
       "      <td>0.03</td>\n",
       "    </tr>\n",
       "    <tr>\n",
       "      <th>300-400</th>\n",
       "      <td>0.00</td>\n",
       "      <td>0.00</td>\n",
       "      <td>0.01</td>\n",
       "      <td>0.01</td>\n",
       "    </tr>\n",
       "    <tr>\n",
       "      <th>All</th>\n",
       "      <td>0.44</td>\n",
       "      <td>0.33</td>\n",
       "      <td>0.22</td>\n",
       "      <td>1.00</td>\n",
       "    </tr>\n",
       "  </tbody>\n",
       "</table>\n",
       "</div>"
      ],
      "text/plain": [
       "Product     KP281  KP481  KP781   All\n",
       "Miles_bins                           \n",
       "20-100       0.34   0.24   0.04  0.63\n",
       "100-200      0.10   0.08   0.15  0.33\n",
       "200-300      0.00   0.01   0.02  0.03\n",
       "300-400      0.00   0.00   0.01  0.01\n",
       "All          0.44   0.33   0.22  1.00"
      ]
     },
     "execution_count": 38,
     "metadata": {},
     "output_type": "execute_result"
    }
   ],
   "source": [
    "pd.crosstab(aerofit_data['Miles_bins'], aerofit_data['Product'], normalize=True, margins=True).round(2)"
   ]
  },
  {
   "cell_type": "markdown",
   "id": "2392374c-82fc-4832-8db1-14db09d56fe0",
   "metadata": {},
   "source": [
    "`96% probability to buy any product for 20-200 miles`\\\n",
    "`For high miles range 200-400, 4% probability is there.`"
   ]
  },
  {
   "cell_type": "markdown",
   "id": "c4aabeb1-236a-4a6e-9f31-5b9f00ddd0bc",
   "metadata": {},
   "source": [
    "### Gender Cond."
   ]
  },
  {
   "cell_type": "code",
   "execution_count": 52,
   "id": "6eb46ef6-0701-46f3-8198-4fc513197fdb",
   "metadata": {},
   "outputs": [
    {
     "data": {
      "text/html": [
       "<div>\n",
       "<style scoped>\n",
       "    .dataframe tbody tr th:only-of-type {\n",
       "        vertical-align: middle;\n",
       "    }\n",
       "\n",
       "    .dataframe tbody tr th {\n",
       "        vertical-align: top;\n",
       "    }\n",
       "\n",
       "    .dataframe thead th {\n",
       "        text-align: right;\n",
       "    }\n",
       "</style>\n",
       "<table border=\"1\" class=\"dataframe\">\n",
       "  <thead>\n",
       "    <tr style=\"text-align: right;\">\n",
       "      <th>Product</th>\n",
       "      <th>KP281</th>\n",
       "      <th>KP481</th>\n",
       "      <th>KP781</th>\n",
       "    </tr>\n",
       "    <tr>\n",
       "      <th>Gender</th>\n",
       "      <th></th>\n",
       "      <th></th>\n",
       "      <th></th>\n",
       "    </tr>\n",
       "  </thead>\n",
       "  <tbody>\n",
       "    <tr>\n",
       "      <th>Female</th>\n",
       "      <td>0.53</td>\n",
       "      <td>0.38</td>\n",
       "      <td>0.09</td>\n",
       "    </tr>\n",
       "    <tr>\n",
       "      <th>Male</th>\n",
       "      <td>0.38</td>\n",
       "      <td>0.30</td>\n",
       "      <td>0.32</td>\n",
       "    </tr>\n",
       "    <tr>\n",
       "      <th>All</th>\n",
       "      <td>0.44</td>\n",
       "      <td>0.33</td>\n",
       "      <td>0.22</td>\n",
       "    </tr>\n",
       "  </tbody>\n",
       "</table>\n",
       "</div>"
      ],
      "text/plain": [
       "Product  KP281  KP481  KP781\n",
       "Gender                      \n",
       "Female    0.53   0.38   0.09\n",
       "Male      0.38   0.30   0.32\n",
       "All       0.44   0.33   0.22"
      ]
     },
     "execution_count": 52,
     "metadata": {},
     "output_type": "execute_result"
    }
   ],
   "source": [
    "pd.crosstab(aerofit_data['Gender'], aerofit_data['Product'], normalize='index', margins=True).round(2)"
   ]
  },
  {
   "cell_type": "markdown",
   "id": "add35d33-9c55-4c5b-8c48-3041d0b45f47",
   "metadata": {},
   "source": [
    "`Female has more probability for KP281 and KP481 with 53 and 38% respectively.`\\\n",
    "`Male has equal probability for all products.`"
   ]
  },
  {
   "cell_type": "markdown",
   "id": "fa822987-19d3-4473-a61a-b998bdecf3b9",
   "metadata": {},
   "source": [
    "#### Gender Marg."
   ]
  },
  {
   "cell_type": "code",
   "execution_count": 53,
   "id": "2813ee28-b140-42f2-b88d-3df318df8781",
   "metadata": {},
   "outputs": [
    {
     "data": {
      "text/html": [
       "<div>\n",
       "<style scoped>\n",
       "    .dataframe tbody tr th:only-of-type {\n",
       "        vertical-align: middle;\n",
       "    }\n",
       "\n",
       "    .dataframe tbody tr th {\n",
       "        vertical-align: top;\n",
       "    }\n",
       "\n",
       "    .dataframe thead th {\n",
       "        text-align: right;\n",
       "    }\n",
       "</style>\n",
       "<table border=\"1\" class=\"dataframe\">\n",
       "  <thead>\n",
       "    <tr style=\"text-align: right;\">\n",
       "      <th>Product</th>\n",
       "      <th>KP281</th>\n",
       "      <th>KP481</th>\n",
       "      <th>KP781</th>\n",
       "      <th>All</th>\n",
       "    </tr>\n",
       "    <tr>\n",
       "      <th>Gender</th>\n",
       "      <th></th>\n",
       "      <th></th>\n",
       "      <th></th>\n",
       "      <th></th>\n",
       "    </tr>\n",
       "  </thead>\n",
       "  <tbody>\n",
       "    <tr>\n",
       "      <th>Female</th>\n",
       "      <td>0.22</td>\n",
       "      <td>0.16</td>\n",
       "      <td>0.04</td>\n",
       "      <td>0.42</td>\n",
       "    </tr>\n",
       "    <tr>\n",
       "      <th>Male</th>\n",
       "      <td>0.22</td>\n",
       "      <td>0.17</td>\n",
       "      <td>0.18</td>\n",
       "      <td>0.58</td>\n",
       "    </tr>\n",
       "    <tr>\n",
       "      <th>All</th>\n",
       "      <td>0.44</td>\n",
       "      <td>0.33</td>\n",
       "      <td>0.22</td>\n",
       "      <td>1.00</td>\n",
       "    </tr>\n",
       "  </tbody>\n",
       "</table>\n",
       "</div>"
      ],
      "text/plain": [
       "Product  KP281  KP481  KP781   All\n",
       "Gender                            \n",
       "Female    0.22   0.16   0.04  0.42\n",
       "Male      0.22   0.17   0.18  0.58\n",
       "All       0.44   0.33   0.22  1.00"
      ]
     },
     "execution_count": 53,
     "metadata": {},
     "output_type": "execute_result"
    }
   ],
   "source": [
    "pd.crosstab(aerofit_data['Gender'], aerofit_data['Product'], normalize=True, margins=True).round(2)"
   ]
  },
  {
   "cell_type": "markdown",
   "id": "f613d7c6-b0db-4646-8250-3f3856454eac",
   "metadata": {},
   "source": [
    "`Male has 58% probablity to buy any product where Female has 42%.`"
   ]
  },
  {
   "cell_type": "markdown",
   "id": "f27f2a7f-0061-4e74-953d-32c9836ebe53",
   "metadata": {},
   "source": [
    "#### Usage Cond."
   ]
  },
  {
   "cell_type": "code",
   "execution_count": 42,
   "id": "02d6b96c-91f2-466a-b408-f918def9f1da",
   "metadata": {},
   "outputs": [
    {
     "data": {
      "text/html": [
       "<div>\n",
       "<style scoped>\n",
       "    .dataframe tbody tr th:only-of-type {\n",
       "        vertical-align: middle;\n",
       "    }\n",
       "\n",
       "    .dataframe tbody tr th {\n",
       "        vertical-align: top;\n",
       "    }\n",
       "\n",
       "    .dataframe thead th {\n",
       "        text-align: right;\n",
       "    }\n",
       "</style>\n",
       "<table border=\"1\" class=\"dataframe\">\n",
       "  <thead>\n",
       "    <tr style=\"text-align: right;\">\n",
       "      <th>Product</th>\n",
       "      <th>KP281</th>\n",
       "      <th>KP481</th>\n",
       "      <th>KP781</th>\n",
       "    </tr>\n",
       "    <tr>\n",
       "      <th>Usage</th>\n",
       "      <th></th>\n",
       "      <th></th>\n",
       "      <th></th>\n",
       "    </tr>\n",
       "  </thead>\n",
       "  <tbody>\n",
       "    <tr>\n",
       "      <th>2</th>\n",
       "      <td>0.58</td>\n",
       "      <td>0.42</td>\n",
       "      <td>0.00</td>\n",
       "    </tr>\n",
       "    <tr>\n",
       "      <th>3</th>\n",
       "      <td>0.54</td>\n",
       "      <td>0.45</td>\n",
       "      <td>0.01</td>\n",
       "    </tr>\n",
       "    <tr>\n",
       "      <th>4</th>\n",
       "      <td>0.42</td>\n",
       "      <td>0.23</td>\n",
       "      <td>0.35</td>\n",
       "    </tr>\n",
       "    <tr>\n",
       "      <th>5</th>\n",
       "      <td>0.12</td>\n",
       "      <td>0.18</td>\n",
       "      <td>0.71</td>\n",
       "    </tr>\n",
       "    <tr>\n",
       "      <th>6</th>\n",
       "      <td>0.00</td>\n",
       "      <td>0.00</td>\n",
       "      <td>1.00</td>\n",
       "    </tr>\n",
       "    <tr>\n",
       "      <th>7</th>\n",
       "      <td>0.00</td>\n",
       "      <td>0.00</td>\n",
       "      <td>1.00</td>\n",
       "    </tr>\n",
       "    <tr>\n",
       "      <th>All</th>\n",
       "      <td>0.44</td>\n",
       "      <td>0.33</td>\n",
       "      <td>0.22</td>\n",
       "    </tr>\n",
       "  </tbody>\n",
       "</table>\n",
       "</div>"
      ],
      "text/plain": [
       "Product  KP281  KP481  KP781\n",
       "Usage                       \n",
       "2         0.58   0.42   0.00\n",
       "3         0.54   0.45   0.01\n",
       "4         0.42   0.23   0.35\n",
       "5         0.12   0.18   0.71\n",
       "6         0.00   0.00   1.00\n",
       "7         0.00   0.00   1.00\n",
       "All       0.44   0.33   0.22"
      ]
     },
     "execution_count": 42,
     "metadata": {},
     "output_type": "execute_result"
    }
   ],
   "source": [
    "pd.crosstab(aerofit_data['Usage'], aerofit_data['Product'], normalize='index', margins=True).round(2)"
   ]
  },
  {
   "cell_type": "markdown",
   "id": "7eae89ed-f8b4-4d41-8627-8912f65a3245",
   "metadata": {},
   "source": [
    "`For usage level 2-3, KP281 and KP481 have near 40-50% probability.`\\\n",
    "`In high usage level 6-7, KP781 is with 100% probability.` "
   ]
  },
  {
   "cell_type": "markdown",
   "id": "a1d90855-9a1f-4844-9adf-e27d0a895d9c",
   "metadata": {},
   "source": [
    "#### Usage Marg."
   ]
  },
  {
   "cell_type": "code",
   "execution_count": 43,
   "id": "4eca3b5f-95b4-4855-af6c-74096642f577",
   "metadata": {},
   "outputs": [
    {
     "data": {
      "text/html": [
       "<div>\n",
       "<style scoped>\n",
       "    .dataframe tbody tr th:only-of-type {\n",
       "        vertical-align: middle;\n",
       "    }\n",
       "\n",
       "    .dataframe tbody tr th {\n",
       "        vertical-align: top;\n",
       "    }\n",
       "\n",
       "    .dataframe thead th {\n",
       "        text-align: right;\n",
       "    }\n",
       "</style>\n",
       "<table border=\"1\" class=\"dataframe\">\n",
       "  <thead>\n",
       "    <tr style=\"text-align: right;\">\n",
       "      <th>Product</th>\n",
       "      <th>KP281</th>\n",
       "      <th>KP481</th>\n",
       "      <th>KP781</th>\n",
       "      <th>All</th>\n",
       "    </tr>\n",
       "    <tr>\n",
       "      <th>Usage</th>\n",
       "      <th></th>\n",
       "      <th></th>\n",
       "      <th></th>\n",
       "      <th></th>\n",
       "    </tr>\n",
       "  </thead>\n",
       "  <tbody>\n",
       "    <tr>\n",
       "      <th>2</th>\n",
       "      <td>0.11</td>\n",
       "      <td>0.08</td>\n",
       "      <td>0.00</td>\n",
       "      <td>0.18</td>\n",
       "    </tr>\n",
       "    <tr>\n",
       "      <th>3</th>\n",
       "      <td>0.21</td>\n",
       "      <td>0.17</td>\n",
       "      <td>0.01</td>\n",
       "      <td>0.38</td>\n",
       "    </tr>\n",
       "    <tr>\n",
       "      <th>4</th>\n",
       "      <td>0.12</td>\n",
       "      <td>0.07</td>\n",
       "      <td>0.10</td>\n",
       "      <td>0.29</td>\n",
       "    </tr>\n",
       "    <tr>\n",
       "      <th>5</th>\n",
       "      <td>0.01</td>\n",
       "      <td>0.02</td>\n",
       "      <td>0.07</td>\n",
       "      <td>0.09</td>\n",
       "    </tr>\n",
       "    <tr>\n",
       "      <th>6</th>\n",
       "      <td>0.00</td>\n",
       "      <td>0.00</td>\n",
       "      <td>0.04</td>\n",
       "      <td>0.04</td>\n",
       "    </tr>\n",
       "    <tr>\n",
       "      <th>7</th>\n",
       "      <td>0.00</td>\n",
       "      <td>0.00</td>\n",
       "      <td>0.01</td>\n",
       "      <td>0.01</td>\n",
       "    </tr>\n",
       "    <tr>\n",
       "      <th>All</th>\n",
       "      <td>0.44</td>\n",
       "      <td>0.33</td>\n",
       "      <td>0.22</td>\n",
       "      <td>1.00</td>\n",
       "    </tr>\n",
       "  </tbody>\n",
       "</table>\n",
       "</div>"
      ],
      "text/plain": [
       "Product  KP281  KP481  KP781   All\n",
       "Usage                             \n",
       "2         0.11   0.08   0.00  0.18\n",
       "3         0.21   0.17   0.01  0.38\n",
       "4         0.12   0.07   0.10  0.29\n",
       "5         0.01   0.02   0.07  0.09\n",
       "6         0.00   0.00   0.04  0.04\n",
       "7         0.00   0.00   0.01  0.01\n",
       "All       0.44   0.33   0.22  1.00"
      ]
     },
     "execution_count": 43,
     "metadata": {},
     "output_type": "execute_result"
    }
   ],
   "source": [
    "pd.crosstab(aerofit_data['Usage'], aerofit_data['Product'], normalize=True, margins=True).round(2)"
   ]
  },
  {
   "cell_type": "markdown",
   "id": "26d372c2-d1b1-46c0-9eb5-4ac3120326d7",
   "metadata": {},
   "source": [
    "`2-4 usage level adults purchased with 84% probability and remaining with high lvevel usage.`"
   ]
  },
  {
   "cell_type": "markdown",
   "id": "9a38d115-0588-4a2c-b7fe-b70d5a9a13cd",
   "metadata": {},
   "source": [
    "#### Fitness Cond."
   ]
  },
  {
   "cell_type": "code",
   "execution_count": 44,
   "id": "4e2f85a3-5a4d-4869-841b-6604db197972",
   "metadata": {},
   "outputs": [
    {
     "data": {
      "text/html": [
       "<div>\n",
       "<style scoped>\n",
       "    .dataframe tbody tr th:only-of-type {\n",
       "        vertical-align: middle;\n",
       "    }\n",
       "\n",
       "    .dataframe tbody tr th {\n",
       "        vertical-align: top;\n",
       "    }\n",
       "\n",
       "    .dataframe thead th {\n",
       "        text-align: right;\n",
       "    }\n",
       "</style>\n",
       "<table border=\"1\" class=\"dataframe\">\n",
       "  <thead>\n",
       "    <tr style=\"text-align: right;\">\n",
       "      <th>Product</th>\n",
       "      <th>KP281</th>\n",
       "      <th>KP481</th>\n",
       "      <th>KP781</th>\n",
       "    </tr>\n",
       "    <tr>\n",
       "      <th>Fitness</th>\n",
       "      <th></th>\n",
       "      <th></th>\n",
       "      <th></th>\n",
       "    </tr>\n",
       "  </thead>\n",
       "  <tbody>\n",
       "    <tr>\n",
       "      <th>1</th>\n",
       "      <td>0.50</td>\n",
       "      <td>0.50</td>\n",
       "      <td>0.00</td>\n",
       "    </tr>\n",
       "    <tr>\n",
       "      <th>2</th>\n",
       "      <td>0.54</td>\n",
       "      <td>0.46</td>\n",
       "      <td>0.00</td>\n",
       "    </tr>\n",
       "    <tr>\n",
       "      <th>3</th>\n",
       "      <td>0.56</td>\n",
       "      <td>0.40</td>\n",
       "      <td>0.04</td>\n",
       "    </tr>\n",
       "    <tr>\n",
       "      <th>4</th>\n",
       "      <td>0.38</td>\n",
       "      <td>0.33</td>\n",
       "      <td>0.29</td>\n",
       "    </tr>\n",
       "    <tr>\n",
       "      <th>5</th>\n",
       "      <td>0.06</td>\n",
       "      <td>0.00</td>\n",
       "      <td>0.94</td>\n",
       "    </tr>\n",
       "    <tr>\n",
       "      <th>All</th>\n",
       "      <td>0.44</td>\n",
       "      <td>0.33</td>\n",
       "      <td>0.22</td>\n",
       "    </tr>\n",
       "  </tbody>\n",
       "</table>\n",
       "</div>"
      ],
      "text/plain": [
       "Product  KP281  KP481  KP781\n",
       "Fitness                     \n",
       "1         0.50   0.50   0.00\n",
       "2         0.54   0.46   0.00\n",
       "3         0.56   0.40   0.04\n",
       "4         0.38   0.33   0.29\n",
       "5         0.06   0.00   0.94\n",
       "All       0.44   0.33   0.22"
      ]
     },
     "execution_count": 44,
     "metadata": {},
     "output_type": "execute_result"
    }
   ],
   "source": [
    "pd.crosstab(aerofit_data['Fitness'], aerofit_data['Product'], normalize='index', margins=True).round(2)"
   ]
  },
  {
   "cell_type": "markdown",
   "id": "726e9fb0-a227-4019-9af8-e1da6ec59545",
   "metadata": {},
   "source": [
    "`Fitness level  1-3 adult purchased KP281 and KP481 with 50-50% probability approx.`\\\n",
    "`For high fitness level 5, KP781 is with 94%.`"
   ]
  },
  {
   "cell_type": "markdown",
   "id": "1d48795a-f62f-4256-a83c-82ca0dc6053b",
   "metadata": {},
   "source": [
    "#### Fitness Marg."
   ]
  },
  {
   "cell_type": "code",
   "execution_count": 45,
   "id": "3581a279-c66d-48de-ae0e-a12af0d95d7e",
   "metadata": {},
   "outputs": [
    {
     "data": {
      "text/html": [
       "<div>\n",
       "<style scoped>\n",
       "    .dataframe tbody tr th:only-of-type {\n",
       "        vertical-align: middle;\n",
       "    }\n",
       "\n",
       "    .dataframe tbody tr th {\n",
       "        vertical-align: top;\n",
       "    }\n",
       "\n",
       "    .dataframe thead th {\n",
       "        text-align: right;\n",
       "    }\n",
       "</style>\n",
       "<table border=\"1\" class=\"dataframe\">\n",
       "  <thead>\n",
       "    <tr style=\"text-align: right;\">\n",
       "      <th>Product</th>\n",
       "      <th>KP281</th>\n",
       "      <th>KP481</th>\n",
       "      <th>KP781</th>\n",
       "      <th>All</th>\n",
       "    </tr>\n",
       "    <tr>\n",
       "      <th>Fitness</th>\n",
       "      <th></th>\n",
       "      <th></th>\n",
       "      <th></th>\n",
       "      <th></th>\n",
       "    </tr>\n",
       "  </thead>\n",
       "  <tbody>\n",
       "    <tr>\n",
       "      <th>1</th>\n",
       "      <td>0.01</td>\n",
       "      <td>0.01</td>\n",
       "      <td>0.00</td>\n",
       "      <td>0.01</td>\n",
       "    </tr>\n",
       "    <tr>\n",
       "      <th>2</th>\n",
       "      <td>0.08</td>\n",
       "      <td>0.07</td>\n",
       "      <td>0.00</td>\n",
       "      <td>0.14</td>\n",
       "    </tr>\n",
       "    <tr>\n",
       "      <th>3</th>\n",
       "      <td>0.30</td>\n",
       "      <td>0.22</td>\n",
       "      <td>0.02</td>\n",
       "      <td>0.54</td>\n",
       "    </tr>\n",
       "    <tr>\n",
       "      <th>4</th>\n",
       "      <td>0.05</td>\n",
       "      <td>0.04</td>\n",
       "      <td>0.04</td>\n",
       "      <td>0.13</td>\n",
       "    </tr>\n",
       "    <tr>\n",
       "      <th>5</th>\n",
       "      <td>0.01</td>\n",
       "      <td>0.00</td>\n",
       "      <td>0.16</td>\n",
       "      <td>0.17</td>\n",
       "    </tr>\n",
       "    <tr>\n",
       "      <th>All</th>\n",
       "      <td>0.44</td>\n",
       "      <td>0.33</td>\n",
       "      <td>0.22</td>\n",
       "      <td>1.00</td>\n",
       "    </tr>\n",
       "  </tbody>\n",
       "</table>\n",
       "</div>"
      ],
      "text/plain": [
       "Product  KP281  KP481  KP781   All\n",
       "Fitness                           \n",
       "1         0.01   0.01   0.00  0.01\n",
       "2         0.08   0.07   0.00  0.14\n",
       "3         0.30   0.22   0.02  0.54\n",
       "4         0.05   0.04   0.04  0.13\n",
       "5         0.01   0.00   0.16  0.17\n",
       "All       0.44   0.33   0.22  1.00"
      ]
     },
     "execution_count": 45,
     "metadata": {},
     "output_type": "execute_result"
    }
   ],
   "source": [
    "pd.crosstab(aerofit_data['Fitness'], aerofit_data['Product'], normalize=True, margins=True).round(2)"
   ]
  },
  {
   "cell_type": "markdown",
   "id": "3524e5df-63bd-49ec-b5df-f857e6255d27",
   "metadata": {},
   "source": [
    "`Fitness level 1-3 adults purchased with 70% probability.`\\\n",
    "`Where high fitness level4-5 adults purchased with 30% probability only.`"
   ]
  },
  {
   "cell_type": "markdown",
   "id": "da13146c-5ea5-43eb-9051-54987126920a",
   "metadata": {},
   "source": [
    "#### Education Cond."
   ]
  },
  {
   "cell_type": "code",
   "execution_count": 46,
   "id": "b21ebcf6-689f-4599-8737-3ecbaa0aa13e",
   "metadata": {},
   "outputs": [
    {
     "data": {
      "text/html": [
       "<div>\n",
       "<style scoped>\n",
       "    .dataframe tbody tr th:only-of-type {\n",
       "        vertical-align: middle;\n",
       "    }\n",
       "\n",
       "    .dataframe tbody tr th {\n",
       "        vertical-align: top;\n",
       "    }\n",
       "\n",
       "    .dataframe thead th {\n",
       "        text-align: right;\n",
       "    }\n",
       "</style>\n",
       "<table border=\"1\" class=\"dataframe\">\n",
       "  <thead>\n",
       "    <tr style=\"text-align: right;\">\n",
       "      <th>Product</th>\n",
       "      <th>KP281</th>\n",
       "      <th>KP481</th>\n",
       "      <th>KP781</th>\n",
       "    </tr>\n",
       "    <tr>\n",
       "      <th>Education_bins</th>\n",
       "      <th></th>\n",
       "      <th></th>\n",
       "      <th></th>\n",
       "    </tr>\n",
       "  </thead>\n",
       "  <tbody>\n",
       "    <tr>\n",
       "      <th>12-14</th>\n",
       "      <td>0.56</td>\n",
       "      <td>0.41</td>\n",
       "      <td>0.03</td>\n",
       "    </tr>\n",
       "    <tr>\n",
       "      <th>14-16</th>\n",
       "      <td>0.48</td>\n",
       "      <td>0.36</td>\n",
       "      <td>0.17</td>\n",
       "    </tr>\n",
       "    <tr>\n",
       "      <th>16-18</th>\n",
       "      <td>0.09</td>\n",
       "      <td>0.09</td>\n",
       "      <td>0.83</td>\n",
       "    </tr>\n",
       "    <tr>\n",
       "      <th>18-21</th>\n",
       "      <td>0.00</td>\n",
       "      <td>0.00</td>\n",
       "      <td>1.00</td>\n",
       "    </tr>\n",
       "    <tr>\n",
       "      <th>All</th>\n",
       "      <td>0.44</td>\n",
       "      <td>0.33</td>\n",
       "      <td>0.22</td>\n",
       "    </tr>\n",
       "  </tbody>\n",
       "</table>\n",
       "</div>"
      ],
      "text/plain": [
       "Product         KP281  KP481  KP781\n",
       "Education_bins                     \n",
       "12-14            0.56   0.41   0.03\n",
       "14-16            0.48   0.36   0.17\n",
       "16-18            0.09   0.09   0.83\n",
       "18-21            0.00   0.00   1.00\n",
       "All              0.44   0.33   0.22"
      ]
     },
     "execution_count": 46,
     "metadata": {},
     "output_type": "execute_result"
    }
   ],
   "source": [
    "pd.crosstab(aerofit_data['Education_bins'], aerofit_data['Product'], normalize='index', margins=True).round(2)"
   ]
  },
  {
   "cell_type": "markdown",
   "id": "a6c97abb-f3bc-4975-a361-fcbd03996a29",
   "metadata": {},
   "source": [
    "`12-16 education years adults are going mostly with KP281 and KP481 in 40-50% probability for each.`\\\n",
    "`Where 16-21 education years adults have 83-100% probability to buy only KP781.`"
   ]
  },
  {
   "cell_type": "markdown",
   "id": "7ce366d0-05fb-492a-89db-081afa5b5c9e",
   "metadata": {},
   "source": [
    "#### Education Marg"
   ]
  },
  {
   "cell_type": "code",
   "execution_count": 47,
   "id": "78840d3a-ce69-43c2-940e-a51ac3f30750",
   "metadata": {},
   "outputs": [
    {
     "data": {
      "text/html": [
       "<div>\n",
       "<style scoped>\n",
       "    .dataframe tbody tr th:only-of-type {\n",
       "        vertical-align: middle;\n",
       "    }\n",
       "\n",
       "    .dataframe tbody tr th {\n",
       "        vertical-align: top;\n",
       "    }\n",
       "\n",
       "    .dataframe thead th {\n",
       "        text-align: right;\n",
       "    }\n",
       "</style>\n",
       "<table border=\"1\" class=\"dataframe\">\n",
       "  <thead>\n",
       "    <tr style=\"text-align: right;\">\n",
       "      <th>Product</th>\n",
       "      <th>KP281</th>\n",
       "      <th>KP481</th>\n",
       "      <th>KP781</th>\n",
       "      <th>All</th>\n",
       "    </tr>\n",
       "    <tr>\n",
       "      <th>Education_bins</th>\n",
       "      <th></th>\n",
       "      <th></th>\n",
       "      <th></th>\n",
       "      <th></th>\n",
       "    </tr>\n",
       "  </thead>\n",
       "  <tbody>\n",
       "    <tr>\n",
       "      <th>12-14</th>\n",
       "      <td>0.19</td>\n",
       "      <td>0.14</td>\n",
       "      <td>0.01</td>\n",
       "      <td>0.35</td>\n",
       "    </tr>\n",
       "    <tr>\n",
       "      <th>14-16</th>\n",
       "      <td>0.24</td>\n",
       "      <td>0.18</td>\n",
       "      <td>0.08</td>\n",
       "      <td>0.50</td>\n",
       "    </tr>\n",
       "    <tr>\n",
       "      <th>16-18</th>\n",
       "      <td>0.01</td>\n",
       "      <td>0.01</td>\n",
       "      <td>0.11</td>\n",
       "      <td>0.13</td>\n",
       "    </tr>\n",
       "    <tr>\n",
       "      <th>18-21</th>\n",
       "      <td>0.00</td>\n",
       "      <td>0.00</td>\n",
       "      <td>0.02</td>\n",
       "      <td>0.02</td>\n",
       "    </tr>\n",
       "    <tr>\n",
       "      <th>All</th>\n",
       "      <td>0.44</td>\n",
       "      <td>0.33</td>\n",
       "      <td>0.22</td>\n",
       "      <td>1.00</td>\n",
       "    </tr>\n",
       "  </tbody>\n",
       "</table>\n",
       "</div>"
      ],
      "text/plain": [
       "Product         KP281  KP481  KP781   All\n",
       "Education_bins                           \n",
       "12-14            0.19   0.14   0.01  0.35\n",
       "14-16            0.24   0.18   0.08  0.50\n",
       "16-18            0.01   0.01   0.11  0.13\n",
       "18-21            0.00   0.00   0.02  0.02\n",
       "All              0.44   0.33   0.22  1.00"
      ]
     },
     "execution_count": 47,
     "metadata": {},
     "output_type": "execute_result"
    }
   ],
   "source": [
    "pd.crosstab(aerofit_data['Education_bins'], aerofit_data['Product'], normalize=True, margins=True).round(2)"
   ]
  },
  {
   "cell_type": "markdown",
   "id": "52808c6d-0e3c-45cf-9d55-c5a42475f190",
   "metadata": {},
   "source": [
    "`Education years 12-16 has 87% probability to buy any product.`\\\n",
    "`Where 18-21 has only 2%.`"
   ]
  },
  {
   "cell_type": "markdown",
   "id": "d77d2d1e-2605-48d1-ac26-3f1d56f979da",
   "metadata": {},
   "source": [
    "#### Age and Income Cond."
   ]
  },
  {
   "cell_type": "code",
   "execution_count": 48,
   "id": "2104cb0c-5ffa-497a-82f4-8dc41169e61e",
   "metadata": {},
   "outputs": [
    {
     "data": {
      "text/html": [
       "<div>\n",
       "<style scoped>\n",
       "    .dataframe tbody tr th:only-of-type {\n",
       "        vertical-align: middle;\n",
       "    }\n",
       "\n",
       "    .dataframe tbody tr th {\n",
       "        vertical-align: top;\n",
       "    }\n",
       "\n",
       "    .dataframe thead th {\n",
       "        text-align: right;\n",
       "    }\n",
       "</style>\n",
       "<table border=\"1\" class=\"dataframe\">\n",
       "  <thead>\n",
       "    <tr style=\"text-align: right;\">\n",
       "      <th></th>\n",
       "      <th>Product</th>\n",
       "      <th>KP281</th>\n",
       "      <th>KP481</th>\n",
       "      <th>KP781</th>\n",
       "    </tr>\n",
       "    <tr>\n",
       "      <th>Age_bins</th>\n",
       "      <th>Income_bins</th>\n",
       "      <th></th>\n",
       "      <th></th>\n",
       "      <th></th>\n",
       "    </tr>\n",
       "  </thead>\n",
       "  <tbody>\n",
       "    <tr>\n",
       "      <th rowspan=\"3\" valign=\"top\">18-30</th>\n",
       "      <th>29k-50k</th>\n",
       "      <td>0.55</td>\n",
       "      <td>0.38</td>\n",
       "      <td>0.07</td>\n",
       "    </tr>\n",
       "    <tr>\n",
       "      <th>50k-75k</th>\n",
       "      <td>0.40</td>\n",
       "      <td>0.20</td>\n",
       "      <td>0.40</td>\n",
       "    </tr>\n",
       "    <tr>\n",
       "      <th>75k-110k</th>\n",
       "      <td>0.00</td>\n",
       "      <td>0.00</td>\n",
       "      <td>1.00</td>\n",
       "    </tr>\n",
       "    <tr>\n",
       "      <th rowspan=\"3\" valign=\"top\">30-40</th>\n",
       "      <th>29k-50k</th>\n",
       "      <td>0.78</td>\n",
       "      <td>0.22</td>\n",
       "      <td>0.00</td>\n",
       "    </tr>\n",
       "    <tr>\n",
       "      <th>50k-75k</th>\n",
       "      <td>0.36</td>\n",
       "      <td>0.64</td>\n",
       "      <td>0.00</td>\n",
       "    </tr>\n",
       "    <tr>\n",
       "      <th>75k-110k</th>\n",
       "      <td>0.00</td>\n",
       "      <td>0.00</td>\n",
       "      <td>1.00</td>\n",
       "    </tr>\n",
       "    <tr>\n",
       "      <th rowspan=\"2\" valign=\"top\">40-50</th>\n",
       "      <th>50k-75k</th>\n",
       "      <td>0.75</td>\n",
       "      <td>0.25</td>\n",
       "      <td>0.00</td>\n",
       "    </tr>\n",
       "    <tr>\n",
       "      <th>75k-110k</th>\n",
       "      <td>0.00</td>\n",
       "      <td>0.00</td>\n",
       "      <td>1.00</td>\n",
       "    </tr>\n",
       "  </tbody>\n",
       "</table>\n",
       "</div>"
      ],
      "text/plain": [
       "Product               KP281  KP481  KP781\n",
       "Age_bins Income_bins                     \n",
       "18-30    29k-50k       0.55   0.38   0.07\n",
       "         50k-75k       0.40   0.20   0.40\n",
       "         75k-110k      0.00   0.00   1.00\n",
       "30-40    29k-50k       0.78   0.22   0.00\n",
       "         50k-75k       0.36   0.64   0.00\n",
       "         75k-110k      0.00   0.00   1.00\n",
       "40-50    50k-75k       0.75   0.25   0.00\n",
       "         75k-110k      0.00   0.00   1.00"
      ]
     },
     "execution_count": 48,
     "metadata": {},
     "output_type": "execute_result"
    }
   ],
   "source": [
    "pd.crosstab([aerofit_data['Age_bins'], aerofit_data['Income_bins']], aerofit_data['Product'], normalize='index').round(2)"
   ]
  },
  {
   "cell_type": "markdown",
   "id": "da1b1af8-931b-446e-854d-61198d16ea8c",
   "metadata": {},
   "source": [
    "`Irrespective of any age group, high income adults are going for KP781 model only with 100% probability.`\\\n",
    "`Income group 30-40 are not going for KP781 model.`"
   ]
  },
  {
   "cell_type": "markdown",
   "id": "58729feb-f10c-4764-a91e-cc23d3a28ffe",
   "metadata": {},
   "source": [
    "#### Fitness and Miles Cond."
   ]
  },
  {
   "cell_type": "code",
   "execution_count": 49,
   "id": "39a8bb1e-78a7-4126-a6e2-cd114c32a9af",
   "metadata": {},
   "outputs": [
    {
     "data": {
      "text/html": [
       "<div>\n",
       "<style scoped>\n",
       "    .dataframe tbody tr th:only-of-type {\n",
       "        vertical-align: middle;\n",
       "    }\n",
       "\n",
       "    .dataframe tbody tr th {\n",
       "        vertical-align: top;\n",
       "    }\n",
       "\n",
       "    .dataframe thead th {\n",
       "        text-align: right;\n",
       "    }\n",
       "</style>\n",
       "<table border=\"1\" class=\"dataframe\">\n",
       "  <thead>\n",
       "    <tr style=\"text-align: right;\">\n",
       "      <th></th>\n",
       "      <th></th>\n",
       "      <th>Product</th>\n",
       "      <th>KP281</th>\n",
       "      <th>KP481</th>\n",
       "      <th>KP781</th>\n",
       "    </tr>\n",
       "    <tr>\n",
       "      <th>Fitness</th>\n",
       "      <th>Usage</th>\n",
       "      <th>Miles_bins</th>\n",
       "      <th></th>\n",
       "      <th></th>\n",
       "      <th></th>\n",
       "    </tr>\n",
       "  </thead>\n",
       "  <tbody>\n",
       "    <tr>\n",
       "      <th rowspan=\"2\" valign=\"top\">1</th>\n",
       "      <th>2</th>\n",
       "      <th>20-100</th>\n",
       "      <td>0.00</td>\n",
       "      <td>1.00</td>\n",
       "      <td>0.00</td>\n",
       "    </tr>\n",
       "    <tr>\n",
       "      <th>3</th>\n",
       "      <th>20-100</th>\n",
       "      <td>1.00</td>\n",
       "      <td>0.00</td>\n",
       "      <td>0.00</td>\n",
       "    </tr>\n",
       "    <tr>\n",
       "      <th rowspan=\"3\" valign=\"top\">2</th>\n",
       "      <th>2</th>\n",
       "      <th>20-100</th>\n",
       "      <td>0.64</td>\n",
       "      <td>0.36</td>\n",
       "      <td>0.00</td>\n",
       "    </tr>\n",
       "    <tr>\n",
       "      <th>3</th>\n",
       "      <th>20-100</th>\n",
       "      <td>0.40</td>\n",
       "      <td>0.60</td>\n",
       "      <td>0.00</td>\n",
       "    </tr>\n",
       "    <tr>\n",
       "      <th>4</th>\n",
       "      <th>20-100</th>\n",
       "      <td>0.50</td>\n",
       "      <td>0.50</td>\n",
       "      <td>0.00</td>\n",
       "    </tr>\n",
       "    <tr>\n",
       "      <th rowspan=\"8\" valign=\"top\">3</th>\n",
       "      <th rowspan=\"2\" valign=\"top\">2</th>\n",
       "      <th>20-100</th>\n",
       "      <td>0.50</td>\n",
       "      <td>0.50</td>\n",
       "      <td>0.00</td>\n",
       "    </tr>\n",
       "    <tr>\n",
       "      <th>100-200</th>\n",
       "      <td>1.00</td>\n",
       "      <td>0.00</td>\n",
       "      <td>0.00</td>\n",
       "    </tr>\n",
       "    <tr>\n",
       "      <th rowspan=\"2\" valign=\"top\">3</th>\n",
       "      <th>20-100</th>\n",
       "      <td>0.60</td>\n",
       "      <td>0.40</td>\n",
       "      <td>0.00</td>\n",
       "    </tr>\n",
       "    <tr>\n",
       "      <th>100-200</th>\n",
       "      <td>0.25</td>\n",
       "      <td>0.75</td>\n",
       "      <td>0.00</td>\n",
       "    </tr>\n",
       "    <tr>\n",
       "      <th rowspan=\"2\" valign=\"top\">4</th>\n",
       "      <th>20-100</th>\n",
       "      <td>0.67</td>\n",
       "      <td>0.17</td>\n",
       "      <td>0.17</td>\n",
       "    </tr>\n",
       "    <tr>\n",
       "      <th>100-200</th>\n",
       "      <td>0.42</td>\n",
       "      <td>0.50</td>\n",
       "      <td>0.08</td>\n",
       "    </tr>\n",
       "    <tr>\n",
       "      <th rowspan=\"2\" valign=\"top\">5</th>\n",
       "      <th>20-100</th>\n",
       "      <td>0.00</td>\n",
       "      <td>1.00</td>\n",
       "      <td>0.00</td>\n",
       "    </tr>\n",
       "    <tr>\n",
       "      <th>100-200</th>\n",
       "      <td>0.00</td>\n",
       "      <td>1.00</td>\n",
       "      <td>0.00</td>\n",
       "    </tr>\n",
       "    <tr>\n",
       "      <th rowspan=\"8\" valign=\"top\">4</th>\n",
       "      <th rowspan=\"2\" valign=\"top\">3</th>\n",
       "      <th>20-100</th>\n",
       "      <td>0.33</td>\n",
       "      <td>0.67</td>\n",
       "      <td>0.00</td>\n",
       "    </tr>\n",
       "    <tr>\n",
       "      <th>100-200</th>\n",
       "      <td>0.57</td>\n",
       "      <td>0.43</td>\n",
       "      <td>0.00</td>\n",
       "    </tr>\n",
       "    <tr>\n",
       "      <th rowspan=\"2\" valign=\"top\">4</th>\n",
       "      <th>20-100</th>\n",
       "      <td>0.00</td>\n",
       "      <td>0.00</td>\n",
       "      <td>1.00</td>\n",
       "    </tr>\n",
       "    <tr>\n",
       "      <th>100-200</th>\n",
       "      <td>0.50</td>\n",
       "      <td>0.33</td>\n",
       "      <td>0.17</td>\n",
       "    </tr>\n",
       "    <tr>\n",
       "      <th rowspan=\"3\" valign=\"top\">5</th>\n",
       "      <th>20-100</th>\n",
       "      <td>0.00</td>\n",
       "      <td>0.00</td>\n",
       "      <td>1.00</td>\n",
       "    </tr>\n",
       "    <tr>\n",
       "      <th>100-200</th>\n",
       "      <td>0.25</td>\n",
       "      <td>0.00</td>\n",
       "      <td>0.75</td>\n",
       "    </tr>\n",
       "    <tr>\n",
       "      <th>200-300</th>\n",
       "      <td>0.00</td>\n",
       "      <td>1.00</td>\n",
       "      <td>0.00</td>\n",
       "    </tr>\n",
       "    <tr>\n",
       "      <th>6</th>\n",
       "      <th>100-200</th>\n",
       "      <td>0.00</td>\n",
       "      <td>0.00</td>\n",
       "      <td>1.00</td>\n",
       "    </tr>\n",
       "    <tr>\n",
       "      <th rowspan=\"9\" valign=\"top\">5</th>\n",
       "      <th>3</th>\n",
       "      <th>100-200</th>\n",
       "      <td>0.00</td>\n",
       "      <td>0.00</td>\n",
       "      <td>1.00</td>\n",
       "    </tr>\n",
       "    <tr>\n",
       "      <th rowspan=\"3\" valign=\"top\">4</th>\n",
       "      <th>20-100</th>\n",
       "      <td>0.00</td>\n",
       "      <td>0.00</td>\n",
       "      <td>1.00</td>\n",
       "    </tr>\n",
       "    <tr>\n",
       "      <th>100-200</th>\n",
       "      <td>0.11</td>\n",
       "      <td>0.00</td>\n",
       "      <td>0.89</td>\n",
       "    </tr>\n",
       "    <tr>\n",
       "      <th>300-400</th>\n",
       "      <td>0.00</td>\n",
       "      <td>0.00</td>\n",
       "      <td>1.00</td>\n",
       "    </tr>\n",
       "    <tr>\n",
       "      <th>5</th>\n",
       "      <th>100-200</th>\n",
       "      <td>0.11</td>\n",
       "      <td>0.00</td>\n",
       "      <td>0.89</td>\n",
       "    </tr>\n",
       "    <tr>\n",
       "      <th rowspan=\"2\" valign=\"top\">6</th>\n",
       "      <th>100-200</th>\n",
       "      <td>0.00</td>\n",
       "      <td>0.00</td>\n",
       "      <td>1.00</td>\n",
       "    </tr>\n",
       "    <tr>\n",
       "      <th>200-300</th>\n",
       "      <td>0.00</td>\n",
       "      <td>0.00</td>\n",
       "      <td>1.00</td>\n",
       "    </tr>\n",
       "    <tr>\n",
       "      <th rowspan=\"2\" valign=\"top\">7</th>\n",
       "      <th>100-200</th>\n",
       "      <td>0.00</td>\n",
       "      <td>0.00</td>\n",
       "      <td>1.00</td>\n",
       "    </tr>\n",
       "    <tr>\n",
       "      <th>200-300</th>\n",
       "      <td>0.00</td>\n",
       "      <td>0.00</td>\n",
       "      <td>1.00</td>\n",
       "    </tr>\n",
       "  </tbody>\n",
       "</table>\n",
       "</div>"
      ],
      "text/plain": [
       "Product                   KP281  KP481  KP781\n",
       "Fitness Usage Miles_bins                     \n",
       "1       2     20-100       0.00   1.00   0.00\n",
       "        3     20-100       1.00   0.00   0.00\n",
       "2       2     20-100       0.64   0.36   0.00\n",
       "        3     20-100       0.40   0.60   0.00\n",
       "        4     20-100       0.50   0.50   0.00\n",
       "3       2     20-100       0.50   0.50   0.00\n",
       "              100-200      1.00   0.00   0.00\n",
       "        3     20-100       0.60   0.40   0.00\n",
       "              100-200      0.25   0.75   0.00\n",
       "        4     20-100       0.67   0.17   0.17\n",
       "              100-200      0.42   0.50   0.08\n",
       "        5     20-100       0.00   1.00   0.00\n",
       "              100-200      0.00   1.00   0.00\n",
       "4       3     20-100       0.33   0.67   0.00\n",
       "              100-200      0.57   0.43   0.00\n",
       "        4     20-100       0.00   0.00   1.00\n",
       "              100-200      0.50   0.33   0.17\n",
       "        5     20-100       0.00   0.00   1.00\n",
       "              100-200      0.25   0.00   0.75\n",
       "              200-300      0.00   1.00   0.00\n",
       "        6     100-200      0.00   0.00   1.00\n",
       "5       3     100-200      0.00   0.00   1.00\n",
       "        4     20-100       0.00   0.00   1.00\n",
       "              100-200      0.11   0.00   0.89\n",
       "              300-400      0.00   0.00   1.00\n",
       "        5     100-200      0.11   0.00   0.89\n",
       "        6     100-200      0.00   0.00   1.00\n",
       "              200-300      0.00   0.00   1.00\n",
       "        7     100-200      0.00   0.00   1.00\n",
       "              200-300      0.00   0.00   1.00"
      ]
     },
     "execution_count": 49,
     "metadata": {},
     "output_type": "execute_result"
    }
   ],
   "source": [
    "pd.crosstab([aerofit_data['Fitness'],  aerofit_data['Usage'], aerofit_data['Miles_bins']], aerofit_data['Product'], normalize='index').round(2)"
   ]
  },
  {
   "cell_type": "markdown",
   "id": "54932696-b0ca-4379-8bea-0552973a00c2",
   "metadata": {},
   "source": [
    "`Fitness level 5, high miles 200-400 and high usage has best option to choose KP781 with 100% probability.`"
   ]
  },
  {
   "cell_type": "markdown",
   "id": "b6f1d1ed-59f8-444b-b5dd-b0acbbded8b2",
   "metadata": {},
   "source": [
    "#### Gender and Marital Status Cond."
   ]
  },
  {
   "cell_type": "code",
   "execution_count": 50,
   "id": "c9a8410a-fe76-4231-8b46-395e1da06d0d",
   "metadata": {},
   "outputs": [
    {
     "data": {
      "text/html": [
       "<div>\n",
       "<style scoped>\n",
       "    .dataframe tbody tr th:only-of-type {\n",
       "        vertical-align: middle;\n",
       "    }\n",
       "\n",
       "    .dataframe tbody tr th {\n",
       "        vertical-align: top;\n",
       "    }\n",
       "\n",
       "    .dataframe thead th {\n",
       "        text-align: right;\n",
       "    }\n",
       "</style>\n",
       "<table border=\"1\" class=\"dataframe\">\n",
       "  <thead>\n",
       "    <tr style=\"text-align: right;\">\n",
       "      <th></th>\n",
       "      <th>Product</th>\n",
       "      <th>KP281</th>\n",
       "      <th>KP481</th>\n",
       "      <th>KP781</th>\n",
       "    </tr>\n",
       "    <tr>\n",
       "      <th>Gender</th>\n",
       "      <th>MaritalStatus</th>\n",
       "      <th></th>\n",
       "      <th></th>\n",
       "      <th></th>\n",
       "    </tr>\n",
       "  </thead>\n",
       "  <tbody>\n",
       "    <tr>\n",
       "      <th rowspan=\"2\" valign=\"top\">Female</th>\n",
       "      <th>Partnered</th>\n",
       "      <td>0.59</td>\n",
       "      <td>0.33</td>\n",
       "      <td>0.09</td>\n",
       "    </tr>\n",
       "    <tr>\n",
       "      <th>Single</th>\n",
       "      <td>0.43</td>\n",
       "      <td>0.47</td>\n",
       "      <td>0.10</td>\n",
       "    </tr>\n",
       "    <tr>\n",
       "      <th rowspan=\"2\" valign=\"top\">Male</th>\n",
       "      <th>Partnered</th>\n",
       "      <td>0.34</td>\n",
       "      <td>0.34</td>\n",
       "      <td>0.31</td>\n",
       "    </tr>\n",
       "    <tr>\n",
       "      <th>Single</th>\n",
       "      <td>0.44</td>\n",
       "      <td>0.23</td>\n",
       "      <td>0.33</td>\n",
       "    </tr>\n",
       "  </tbody>\n",
       "</table>\n",
       "</div>"
      ],
      "text/plain": [
       "Product               KP281  KP481  KP781\n",
       "Gender MaritalStatus                     \n",
       "Female Partnered       0.59   0.33   0.09\n",
       "       Single          0.43   0.47   0.10\n",
       "Male   Partnered       0.34   0.34   0.31\n",
       "       Single          0.44   0.23   0.33"
      ]
     },
     "execution_count": 50,
     "metadata": {},
     "output_type": "execute_result"
    }
   ],
   "source": [
    "pd.crosstab([aerofit_data['Gender'], aerofit_data['MaritalStatus']], aerofit_data['Product'], normalize='index').round(2)"
   ]
  },
  {
   "cell_type": "markdown",
   "id": "ce6aec97-4247-4cd5-842a-98cf95358ef1",
   "metadata": {},
   "source": [
    "`Female and partnered status adults are going for KP281 with 59% probability.`\\\n",
    "`male with Single status adults are going for same KP281 with 44% probability.`"
   ]
  },
  {
   "cell_type": "markdown",
   "id": "9485b2f8-5ed3-4e38-a3a3-08a7a368ee4b",
   "metadata": {},
   "source": [
    "#### Gender and Age Cond."
   ]
  },
  {
   "cell_type": "code",
   "execution_count": 51,
   "id": "fe552b24-bcce-4c43-bb92-9b3efa12890a",
   "metadata": {},
   "outputs": [
    {
     "data": {
      "text/html": [
       "<div>\n",
       "<style scoped>\n",
       "    .dataframe tbody tr th:only-of-type {\n",
       "        vertical-align: middle;\n",
       "    }\n",
       "\n",
       "    .dataframe tbody tr th {\n",
       "        vertical-align: top;\n",
       "    }\n",
       "\n",
       "    .dataframe thead th {\n",
       "        text-align: right;\n",
       "    }\n",
       "</style>\n",
       "<table border=\"1\" class=\"dataframe\">\n",
       "  <thead>\n",
       "    <tr style=\"text-align: right;\">\n",
       "      <th></th>\n",
       "      <th>Product</th>\n",
       "      <th>KP281</th>\n",
       "      <th>KP481</th>\n",
       "      <th>KP781</th>\n",
       "    </tr>\n",
       "    <tr>\n",
       "      <th>Gender</th>\n",
       "      <th>Age_bins</th>\n",
       "      <th></th>\n",
       "      <th></th>\n",
       "      <th></th>\n",
       "    </tr>\n",
       "  </thead>\n",
       "  <tbody>\n",
       "    <tr>\n",
       "      <th rowspan=\"3\" valign=\"top\">Female</th>\n",
       "      <th>18-30</th>\n",
       "      <td>0.55</td>\n",
       "      <td>0.33</td>\n",
       "      <td>0.12</td>\n",
       "    </tr>\n",
       "    <tr>\n",
       "      <th>30-40</th>\n",
       "      <td>0.41</td>\n",
       "      <td>0.55</td>\n",
       "      <td>0.05</td>\n",
       "    </tr>\n",
       "    <tr>\n",
       "      <th>40-50</th>\n",
       "      <td>1.00</td>\n",
       "      <td>0.00</td>\n",
       "      <td>0.00</td>\n",
       "    </tr>\n",
       "    <tr>\n",
       "      <th rowspan=\"3\" valign=\"top\">Male</th>\n",
       "      <th>18-30</th>\n",
       "      <td>0.39</td>\n",
       "      <td>0.26</td>\n",
       "      <td>0.35</td>\n",
       "    </tr>\n",
       "    <tr>\n",
       "      <th>30-40</th>\n",
       "      <td>0.38</td>\n",
       "      <td>0.42</td>\n",
       "      <td>0.19</td>\n",
       "    </tr>\n",
       "    <tr>\n",
       "      <th>40-50</th>\n",
       "      <td>0.33</td>\n",
       "      <td>0.22</td>\n",
       "      <td>0.44</td>\n",
       "    </tr>\n",
       "  </tbody>\n",
       "</table>\n",
       "</div>"
      ],
      "text/plain": [
       "Product          KP281  KP481  KP781\n",
       "Gender Age_bins                     \n",
       "Female 18-30      0.55   0.33   0.12\n",
       "       30-40      0.41   0.55   0.05\n",
       "       40-50      1.00   0.00   0.00\n",
       "Male   18-30      0.39   0.26   0.35\n",
       "       30-40      0.38   0.42   0.19\n",
       "       40-50      0.33   0.22   0.44"
      ]
     },
     "execution_count": 51,
     "metadata": {},
     "output_type": "execute_result"
    }
   ],
   "source": [
    "pd.crosstab([aerofit_data['Gender'], aerofit_data['Age_bins']], aerofit_data['Product'], normalize='index').round(2)"
   ]
  },
  {
   "cell_type": "markdown",
   "id": "ffe873e5-2915-46d8-8f9d-7d191318a971",
   "metadata": {},
   "source": [
    "`Female in 18-30 age group purchased KP281 with 55% probability.`\\\n",
    "`Female in 30-40 age group purchased KP481 with 55% probability.`\\\n",
    "`Male probability to buy any product in all age group looks very identical, but for KP781 in 40-50 age group has 44% probability.`"
   ]
  },
  {
   "cell_type": "markdown",
   "id": "d972155d-d2c6-46d2-853d-40168a08be0b",
   "metadata": {},
   "source": [
    "### Customer Profiling:"
   ]
  },
  {
   "cell_type": "markdown",
   "id": "fd129419-c95f-4fe8-a3ec-feb25791eb7c",
   "metadata": {},
   "source": [
    "`1. KP281: Income range 29-50k, Any age group, Female with partnered status, Miles range 20-100, Usage 2-4, Fitness 1-4 and Education 12-16.`"
   ]
  },
  {
   "cell_type": "markdown",
   "id": "51fbcada-811f-4a64-9457-f83ae3050742",
   "metadata": {},
   "source": [
    "`2. KP481: Income range 50-75k , Age group 30-40, Miles 20-100, Any gender with Single status, usage 2-3, fitness 1-4 and Education 12-16.`"
   ]
  },
  {
   "cell_type": "markdown",
   "id": "2ab3dbe0-c84b-4d19-ae31-d8f640cbc710",
   "metadata": {},
   "source": [
    "`3. KP781: Income range 75-110k, Age group 18-30 or 40-50, Male with any status, miles 200-400, usage 6-7, Fitness 5, Education 16-20.`"
   ]
  },
  {
   "cell_type": "markdown",
   "id": "f1eaf604-cd68-46b3-bd01-3a54339e74f4",
   "metadata": {},
   "source": [
    "### Recommendations:"
   ]
  },
  {
   "cell_type": "markdown",
   "id": "663b8acf-8754-4fab-a2fc-b32f71468007",
   "metadata": {},
   "source": [
    "`1.Aerofit should target low income, limited usage,  low to medium fitness level and Education years till 16 with entry level product KP281 only.`\\\n",
    "`2. For medium income range, mid age adults with single marital status, low to medium fitness and education till 16 years, intermidate product KP481 is good recommendation.` \\\n",
    "`3. For High income, Male, high miles, usage, fitness and education years 16-20, advanced level product KP781 is best recommendation.`\\\n",
    "`4. Although Fitness, usage and miles are positively correlated so we can recommend on any single feature also.`\\\n",
    "`5.Income and Education are also positively correlated with each other.`"
   ]
  },
  {
   "cell_type": "code",
   "execution_count": null,
   "id": "4d3dbe14-cdc1-4b04-8021-b9999c4115b4",
   "metadata": {},
   "outputs": [],
   "source": []
  }
 ],
 "metadata": {
  "kernelspec": {
   "display_name": "Python 3 (ipykernel)",
   "language": "python",
   "name": "python3"
  },
  "language_info": {
   "codemirror_mode": {
    "name": "ipython",
    "version": 3
   },
   "file_extension": ".py",
   "mimetype": "text/x-python",
   "name": "python",
   "nbconvert_exporter": "python",
   "pygments_lexer": "ipython3",
   "version": "3.9.12"
  }
 },
 "nbformat": 4,
 "nbformat_minor": 5
}
